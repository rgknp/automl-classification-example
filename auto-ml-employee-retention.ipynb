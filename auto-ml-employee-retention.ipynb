{
  "cells": [
    {
      "cell_type": "code",
      "execution_count": 2,
      "metadata": {},
      "outputs": [],
      "source": [
        "# Import all required packages and libraries\n",
        "\n",
        "import logging\n",
        "\n",
        "from matplotlib import pyplot as plt\n",
        "import pandas as pd\n",
        "import os\n",
        "\n",
        "import azureml.core\n",
        "from azureml.core.experiment import Experiment\n",
        "from azureml.core.workspace import Workspace\n",
        "from azureml.core.dataset import Dataset\n",
        "from azureml.train.automl import AutoMLConfig\n",
        "from azureml.core.authentication import MsiAuthentication"
      ]
    },
    {
      "cell_type": "code",
      "execution_count": 2,
      "metadata": {},
      "outputs": [
        {
          "output_type": "stream",
          "name": "stdout",
          "text": [
            "You are currently using version 1.17.0 of the Azure ML SDK\n"
          ]
        }
      ],
      "source": [
        "print(\"You are currently using version\", azureml.core.VERSION, \"of the Azure ML SDK\")"
      ]
    },
    {
      "cell_type": "code",
      "execution_count": 3,
      "metadata": {},
      "outputs": [
        {
          "output_type": "stream",
          "name": "stdout",
          "text": [
            "creating MsiAuthentication...\ndone creating MsiAuthentication!\n"
          ]
        }
      ],
      "source": [
        "# Authenticate into Azure ML Workspace with Managed Service Identity\n",
        "print('creating MsiAuthentication...')\n",
        "msi_auth = MsiAuthentication()\n",
        "print('done creating MsiAuthentication!')"
      ]
    },
    {
      "cell_type": "code",
      "execution_count": 4,
      "metadata": {},
      "outputs": [
        {
          "output_type": "execute_result",
          "data": {
            "text/plain": [
              "                                                     \n",
              "Subscription ID  93231767-b41d-4cbb-a2d3-2137400dfde2\n",
              "Workspace        quick-start-ws                      \n",
              "Resource Group   MCW-MLOps                           \n",
              "Location         eastus                              \n",
              "Experiment Name  automl-employee-turnover            "
            ],
            "text/html": "<div>\n<style scoped>\n    .dataframe tbody tr th:only-of-type {\n        vertical-align: middle;\n    }\n\n    .dataframe tbody tr th {\n        vertical-align: top;\n    }\n\n    .dataframe thead th {\n        text-align: right;\n    }\n</style>\n<table border=\"1\" class=\"dataframe\">\n  <thead>\n    <tr style=\"text-align: right;\">\n      <th></th>\n      <th></th>\n    </tr>\n  </thead>\n  <tbody>\n    <tr>\n      <th>Subscription ID</th>\n      <td>93231767-b41d-4cbb-a2d3-2137400dfde2</td>\n    </tr>\n    <tr>\n      <th>Workspace</th>\n      <td>quick-start-ws</td>\n    </tr>\n    <tr>\n      <th>Resource Group</th>\n      <td>MCW-MLOps</td>\n    </tr>\n    <tr>\n      <th>Location</th>\n      <td>eastus</td>\n    </tr>\n    <tr>\n      <th>Experiment Name</th>\n      <td>automl-employee-turnover</td>\n    </tr>\n  </tbody>\n</table>\n</div>"
          },
          "metadata": {},
          "execution_count": 4
        }
      ],
      "source": [
        "# Get Workspace from the config file downloaded as config.json from the Azure Portal\n",
        "\n",
        "ws = Workspace.from_config(auth=msi_auth)\n",
        "\n",
        "# choose a name for experiment\n",
        "experiment_name = 'automl-employee-turnover'\n",
        "\n",
        "experiment=Experiment(ws, experiment_name)\n",
        "\n",
        "output = {}\n",
        "output['Subscription ID'] = ws.subscription_id\n",
        "output['Workspace'] = ws.name\n",
        "output['Resource Group'] = ws.resource_group\n",
        "output['Location'] = ws.location\n",
        "output['Experiment Name'] = experiment.name\n",
        "pd.set_option('display.max_colwidth', -1)\n",
        "outputDf = pd.DataFrame(data = output, index = [''])\n",
        "outputDf.T"
      ]
    },
    {
      "cell_type": "code",
      "execution_count": 5,
      "metadata": {},
      "outputs": [
        {
          "output_type": "stream",
          "name": "stdout",
          "text": [
            "Found existing cluster, use it.\n",
            "Succeeded\n",
            "AmlCompute wait for completion finished\n",
            "\n",
            "Minimum number of nodes requested have been provisioned\n"
          ]
        }
      ],
      "source": [
        "# A compute target is required to train models\n",
        "from azureml.core.compute import ComputeTarget, AmlCompute, AksCompute\n",
        "from azureml.core.compute_target import ComputeTargetException\n",
        "\n",
        "# Choose a name for your CPU cluster\n",
        "cpu_cluster_name = \"cpu-cluster\"\n",
        "\n",
        "# Verify that cluster does not exist already\n",
        "try:\n",
        "    compute_target = ComputeTarget(workspace=ws, name=cpu_cluster_name)\n",
        "    print('Found existing cluster, use it.')\n",
        "except ComputeTargetException:\n",
        "    compute_config = AmlCompute.provisioning_configuration(vm_size='STANDARD_D2_V2',\n",
        "                                                           max_nodes=4,\n",
        "                                                           min_nodes=0)\n",
        "                    \n",
        "    compute_target = ComputeTarget.create(ws, cpu_cluster_name, compute_config)\n",
        "\n",
        "compute_target.wait_for_completion(show_output=True)"
      ]
    },
    {
      "cell_type": "markdown",
      "metadata": {},
      "source": [
        "### Load Data\n",
        "\n",
        "Load the credit card dataset from a csv file containing both training features and labels. The features are inputs to the model, while the training labels represent the expected output of the model. Next, we'll split the data using random_split and extract the training data for the model."
      ]
    },
    {
      "cell_type": "code",
      "execution_count": 6,
      "metadata": {},
      "outputs": [
        {
          "output_type": "execute_result",
          "data": {
            "text/plain": [
              "               City  Email Domain  EmployeeLeft  Hired through SMTP  \\\n",
              "0  Sandaohezi        exblog.jp     0.0           0                    \n",
              "1  Bandung           youtu.be      1.0           0                    \n",
              "2  Kuala Terengganu  cbslocal.com  0.0           1                    \n",
              "\n",
              "   Manager Rating of Likelihood to leave  Marked for PHT Program  \\\n",
              "0  1.0                                    1                        \n",
              "1  21.0                                   0                        \n",
              "2  1.0                                    1                        \n",
              "\n",
              "   Most Recent Performance Evaluation  \\\n",
              "0  59.0                                 \n",
              "1  49.0                                 \n",
              "2  51.0                                 \n",
              "\n",
              "   Social Media Activity (Twitter, Facebook, Instagram)  \\\n",
              "0  0                                                      \n",
              "1  2                                                      \n",
              "2  1                                                      \n",
              "\n",
              "   Survey, Relative, Attitude toward WorkType  \\\n",
              "0  2                                            \n",
              "1  1                                            \n",
              "2  3                                            \n",
              "\n",
              "   Survey, Relative, Attitude toward Workload  \\\n",
              "0  2                                            \n",
              "1  2                                            \n",
              "2  1                                            \n",
              "\n",
              "   Survey, Relative, Peer's Average Attitude toward Manager  \n",
              "0  1                                                         \n",
              "1  3                                                         \n",
              "2  2                                                         "
            ],
            "text/html": "<div>\n<style scoped>\n    .dataframe tbody tr th:only-of-type {\n        vertical-align: middle;\n    }\n\n    .dataframe tbody tr th {\n        vertical-align: top;\n    }\n\n    .dataframe thead th {\n        text-align: right;\n    }\n</style>\n<table border=\"1\" class=\"dataframe\">\n  <thead>\n    <tr style=\"text-align: right;\">\n      <th></th>\n      <th>City</th>\n      <th>Email Domain</th>\n      <th>EmployeeLeft</th>\n      <th>Hired through SMTP</th>\n      <th>Manager Rating of Likelihood to leave</th>\n      <th>Marked for PHT Program</th>\n      <th>Most Recent Performance Evaluation</th>\n      <th>Social Media Activity (Twitter, Facebook, Instagram)</th>\n      <th>Survey, Relative, Attitude toward WorkType</th>\n      <th>Survey, Relative, Attitude toward Workload</th>\n      <th>Survey, Relative, Peer's Average Attitude toward Manager</th>\n    </tr>\n  </thead>\n  <tbody>\n    <tr>\n      <th>0</th>\n      <td>Sandaohezi</td>\n      <td>exblog.jp</td>\n      <td>0.0</td>\n      <td>0</td>\n      <td>1.0</td>\n      <td>1</td>\n      <td>59.0</td>\n      <td>0</td>\n      <td>2</td>\n      <td>2</td>\n      <td>1</td>\n    </tr>\n    <tr>\n      <th>1</th>\n      <td>Bandung</td>\n      <td>youtu.be</td>\n      <td>1.0</td>\n      <td>0</td>\n      <td>21.0</td>\n      <td>0</td>\n      <td>49.0</td>\n      <td>2</td>\n      <td>1</td>\n      <td>2</td>\n      <td>3</td>\n    </tr>\n    <tr>\n      <th>2</th>\n      <td>Kuala Terengganu</td>\n      <td>cbslocal.com</td>\n      <td>0.0</td>\n      <td>1</td>\n      <td>1.0</td>\n      <td>1</td>\n      <td>51.0</td>\n      <td>1</td>\n      <td>3</td>\n      <td>1</td>\n      <td>2</td>\n    </tr>\n  </tbody>\n</table>\n</div>"
          },
          "metadata": {},
          "execution_count": 6
        }
      ],
      "source": [
        "# Training data was uploaded to Azure ML Workspace default datastore and already registered as a dataset\n",
        "\n",
        "# Get the default datastore\n",
        "datastore = ws.get_default_datastore()\n",
        "\n",
        "# Since dtaa is in csv format, get dataset as tabular from the datastore\n",
        "dataset = Dataset.Tabular.from_delimited_files(path = [(datastore, 'train-dataset/tabular/11-06-2020_102904_UTC/employee-turnover.csv')])\n",
        "\n",
        "# preview the first 3 rows of the dataset\n",
        "dataset.take(3).to_pandas_dataframe()                       "
      ]
    },
    {
      "cell_type": "code",
      "execution_count": 7,
      "metadata": {},
      "outputs": [],
      "source": [
        "# Split dataset into training and validation datasets\n",
        "training_data, validation_data = dataset.random_split(percentage=0.8, seed=223)\n",
        "\n",
        "# Identify column to be predicted as label\n",
        "label_column_name = 'EmployeeLeft'"
      ]
    },
    {
      "cell_type": "code",
      "execution_count": 9,
      "metadata": {},
      "outputs": [],
      "source": [
        "# Instantiate a AutoMLConfig object. This defines the settings and data used to run the experiment.\n",
        "\n",
        "automl_settings = {\n",
        "    \"n_cross_validations\": 3,\n",
        "    \"primary_metric\": 'accuracy',\n",
        "    \"featurization\": 'auto',\n",
        "    \"enable_early_stopping\": True,\n",
        "    \"max_concurrent_iterations\": 4, \n",
        "    \"experiment_timeout_hours\": 1,\n",
        "    \"verbosity\": logging.INFO,\n",
        "    \"model_explainability\": True\n",
        "}\n",
        "\n",
        "automl_config = AutoMLConfig(task = 'classification',\n",
        "                             debug_log = 'automl_errors.log',\n",
        "                             compute_target = compute_target,\n",
        "                             training_data = training_data,\n",
        "                             label_column_name = label_column_name,\n",
        "                             **automl_settings\n",
        "                            )"
      ]
    },
    {
      "cell_type": "code",
      "execution_count": 11,
      "metadata": {},
      "outputs": [
        {
          "output_type": "stream",
          "name": "stdout",
          "text": [
            "Running on remote.\n"
          ]
        }
      ],
      "source": [
        "# Submit experiment\n",
        "remote_run = experiment.submit(automl_config, show_output = False)"
      ]
    },
    {
      "cell_type": "code",
      "execution_count": 12,
      "metadata": {},
      "outputs": [
        {
          "output_type": "stream",
          "name": "stdout",
          "text": [
            "\n",
            "Current status: FeaturesGeneration. Generating features for the dataset.\n",
            "Current status: DatasetCrossValidationSplit. Generating individually featurized CV splits.\n",
            "Current status: ModelSelection. Beginning model selection.\n",
            "\n",
            "****************************************************************************************************\n",
            "DATA GUARDRAILS: \n",
            "\n",
            "TYPE:         Class balancing detection\n",
            "STATUS:       PASSED\n",
            "DESCRIPTION:  Your inputs were analyzed, and all classes are balanced in your training data.\n",
            "              Learn more about imbalanced data: https://aka.ms/AutomatedMLImbalancedData\n",
            "\n",
            "****************************************************************************************************\n",
            "\n",
            "TYPE:         Missing feature values imputation\n",
            "STATUS:       PASSED\n",
            "DESCRIPTION:  No feature missing values were detected in the training data.\n",
            "              Learn more about missing value imputation: https://aka.ms/AutomatedMLFeaturization\n",
            "\n",
            "****************************************************************************************************\n",
            "\n",
            "TYPE:         High cardinality feature detection\n",
            "STATUS:       PASSED\n",
            "DESCRIPTION:  Your inputs were analyzed, and no high cardinality features were detected.\n",
            "              Learn more about high cardinality feature handling: https://aka.ms/AutomatedMLFeaturization\n",
            "\n",
            "****************************************************************************************************\n",
            "\n",
            "****************************************************************************************************\n",
            "ITERATION: The iteration being evaluated.\n",
            "PIPELINE: A summary description of the pipeline being evaluated.\n",
            "DURATION: Time taken for the current iteration.\n",
            "METRIC: The result of computing score on the fitted pipeline.\n",
            "BEST: The best observed score thus far.\n",
            "****************************************************************************************************\n",
            "\n",
            " ITERATION   PIPELINE                                       DURATION      METRIC      BEST\n",
            "         2   MaxAbsScaler RandomForest                      0:00:30       0.7966    0.7966\n",
            "         3   MaxAbsScaler RandomForest                      0:00:46       0.7407    0.7966\n",
            "         0   MaxAbsScaler LightGBM                          0:00:37       0.8688    0.8688\n",
            "         1   MaxAbsScaler XGBoostClassifier                 0:00:35       0.8693    0.8693\n",
            "         7   MaxAbsScaler ExtremeRandomTrees                0:00:38       0.7584    0.8693\n",
            "         8   MaxAbsScaler ExtremeRandomTrees                0:00:30       0.7623    0.8693\n",
            "         9   MaxAbsScaler ExtremeRandomTrees                0:00:36       0.7297    0.8693\n",
            "        10   MaxAbsScaler SGD                               0:00:36       0.7928    0.8693\n",
            "        11   MaxAbsScaler SGD                               0:00:36       0.7979    0.8693\n",
            "         4   MaxAbsScaler SGD                               0:05:16       0.8101    0.8693\n",
            "         5   MaxAbsScaler SGD                               0:05:12       0.8164    0.8693\n",
            "         6   MaxAbsScaler ExtremeRandomTrees                0:05:14       0.7363    0.8693\n",
            "        15   MaxAbsScaler SGD                               0:00:35       0.8403    0.8693\n",
            "        12   MaxAbsScaler RandomForest                      0:00:37       0.7983    0.8693\n",
            "        13   StandardScalerWrapper ExtremeRandomTrees       0:00:38       0.7042    0.8693\n",
            "        14   MaxAbsScaler RandomForest                      0:00:37       0.7744    0.8693\n",
            "        16   MaxAbsScaler RandomForest                      0:00:35       0.6977    0.8693\n",
            "        17   MaxAbsScaler ExtremeRandomTrees                0:00:29       0.7368    0.8693\n",
            "        18   SparseNormalizer ExtremeRandomTrees            0:00:33       0.7305    0.8693\n",
            "        19   MaxAbsScaler SGD                               0:00:31       0.8215    0.8693\n",
            "        20   MaxAbsScaler ExtremeRandomTrees                0:00:40       0.7726    0.8693\n",
            "        23   MaxAbsScaler SGD                               0:00:35       0.8304    0.8693\n",
            "        21   MaxAbsScaler RandomForest                      0:00:40       0.7591    0.8693\n",
            "        22   MaxAbsScaler ExtremeRandomTrees                0:00:38       0.7054    0.8693\n",
            "        24   MaxAbsScaler SGD                               0:00:34       0.8188    0.8693\n",
            "        25   TruncatedSVDWrapper XGBoostClassifier          0:00:33       0.5673    0.8693\n",
            "        26   StandardScalerWrapper XGBoostClassifier        0:00:36       0.8605    0.8693\n",
            "        27   SparseNormalizer LightGBM                      0:00:45       0.8676    0.8693\n",
            "        28   StandardScalerWrapper XGBoostClassifier        0:00:30       0.8226    0.8693\n",
            "        30   SparseNormalizer XGBoostClassifier             0:00:38       0.8593    0.8693\n",
            "        29   SparseNormalizer XGBoostClassifier             0:00:47       0.8593    0.8693\n",
            "        31   SparseNormalizer XGBoostClassifier             0:00:35       0.8321    0.8693\n",
            "        32   SparseNormalizer XGBoostClassifier             0:00:39       0.8614    0.8693\n",
            "        33   MaxAbsScaler SGD                               0:00:31          nan    0.8693\n",
            "        34                                                  0:00:19          nan    0.8693\n",
            "        35                                                  0:00:19          nan    0.8693\n",
            "        36    VotingEnsemble                                0:01:00       0.8774    0.8774\n",
            "        37    StackEnsemble                                 0:01:13       0.8733    0.8774\n"
          ]
        },
        {
          "output_type": "execute_result",
          "data": {
            "text/plain": [
              "{'runId': 'AutoML_9b09fd28-d543-4b5a-9e51-e3a796931772',\n",
              " 'target': 'cpu-cluster',\n",
              " 'status': 'Completed',\n",
              " 'startTimeUtc': '2020-11-10T03:48:39.68178Z',\n",
              " 'endTimeUtc': '2020-11-10T04:18:02.206361Z',\n",
              " 'properties': {'num_iterations': '1000',\n",
              "  'training_type': 'TrainFull',\n",
              "  'acquisition_function': 'EI',\n",
              "  'primary_metric': 'accuracy',\n",
              "  'train_split': '0',\n",
              "  'acquisition_parameter': '0',\n",
              "  'num_cross_validation': '3',\n",
              "  'target': 'cpu-cluster',\n",
              "  'AMLSettingsJsonString': '{\"path\":null,\"name\":\"automl-employee-turnover\",\"subscription_id\":\"93231767-b41d-4cbb-a2d3-2137400dfde2\",\"resource_group\":\"MCW-MLOps\",\"workspace_name\":\"quick-start-ws\",\"region\":\"eastus\",\"compute_target\":\"cpu-cluster\",\"spark_service\":null,\"azure_service\":\"remote\",\"_local_managed_run_id\":null,\"many_models\":false,\"pipeline_fetch_max_batch_size\":1,\"iterations\":1000,\"primary_metric\":\"accuracy\",\"task_type\":\"classification\",\"data_script\":null,\"validation_size\":0.0,\"n_cross_validations\":3,\"y_min\":null,\"y_max\":null,\"num_classes\":null,\"featurization\":\"auto\",\"_ignore_package_version_incompatibilities\":false,\"is_timeseries\":false,\"max_cores_per_iteration\":1,\"max_concurrent_iterations\":4,\"iteration_timeout_minutes\":null,\"mem_in_mb\":null,\"enforce_time_on_windows\":false,\"experiment_timeout_minutes\":60,\"experiment_exit_score\":null,\"whitelist_models\":null,\"blacklist_algos\":[\"TensorFlowLinearClassifier\",\"TensorFlowDNN\"],\"supported_models\":[\"TensorFlowDNN\",\"BernoulliNaiveBayes\",\"SVM\",\"ExtremeRandomTrees\",\"LogisticRegression\",\"SGD\",\"RandomForest\",\"LinearSVM\",\"XGBoostClassifier\",\"LightGBM\",\"DecisionTree\",\"KNN\",\"GradientBoosting\",\"AveragedPerceptronClassifier\",\"TensorFlowLinearClassifier\",\"MultinomialNaiveBayes\"],\"auto_blacklist\":true,\"blacklist_samples_reached\":false,\"exclude_nan_labels\":true,\"verbosity\":20,\"_debug_log\":\"azureml_automl.log\",\"show_warnings\":false,\"model_explainability\":true,\"service_url\":null,\"sdk_url\":null,\"sdk_packages\":null,\"enable_onnx_compatible_models\":false,\"enable_split_onnx_featurizer_estimator_models\":false,\"vm_type\":\"STANDARD_D2_V2\",\"telemetry_verbosity\":20,\"send_telemetry\":true,\"enable_dnn\":false,\"force_text_dnn\":false,\"enable_feature_sweeping\":true,\"enable_early_stopping\":true,\"early_stopping_n_iters\":10,\"metrics\":null,\"enable_ensembling\":true,\"enable_stack_ensembling\":true,\"ensemble_iterations\":15,\"enable_tf\":false,\"enable_subsampling\":null,\"subsample_seed\":null,\"enable_nimbusml\":false,\"enable_streaming\":false,\"force_streaming\":false,\"track_child_runs\":true,\"allowed_private_models\":[],\"label_column_name\":\"EmployeeLeft\",\"weight_column_name\":null,\"cv_split_column_names\":null,\"enable_local_managed\":false,\"cost_mode\":1,\"lag_length\":0,\"metric_operation\":\"maximize\",\"preprocess\":true,\"scenario\":\"SDK-1.13.0\"}',\n",
              "  'DataPrepJsonString': '{\\\\\"training_data\\\\\": \\\\\"{\\\\\\\\\\\\\"blocks\\\\\\\\\\\\\": [{\\\\\\\\\\\\\"id\\\\\\\\\\\\\": \\\\\\\\\\\\\"6e9a97b1-7481-4ef5-b6e6-986d9efbb63f\\\\\\\\\\\\\", \\\\\\\\\\\\\"type\\\\\\\\\\\\\": \\\\\\\\\\\\\"Microsoft.DPrep.GetDatastoreFilesBlock\\\\\\\\\\\\\", \\\\\\\\\\\\\"arguments\\\\\\\\\\\\\": {\\\\\\\\\\\\\"datastores\\\\\\\\\\\\\": [{\\\\\\\\\\\\\"datastoreName\\\\\\\\\\\\\": \\\\\\\\\\\\\"workspaceblobstore\\\\\\\\\\\\\", \\\\\\\\\\\\\"path\\\\\\\\\\\\\": \\\\\\\\\\\\\"train-dataset/tabular/11-06-2020_102904_UTC/employee-turnover.csv\\\\\\\\\\\\\", \\\\\\\\\\\\\"resourceGroup\\\\\\\\\\\\\": \\\\\\\\\\\\\"MCW-MLOps\\\\\\\\\\\\\", \\\\\\\\\\\\\"subscription\\\\\\\\\\\\\": \\\\\\\\\\\\\"93231767-b41d-4cbb-a2d3-2137400dfde2\\\\\\\\\\\\\", \\\\\\\\\\\\\"workspaceName\\\\\\\\\\\\\": \\\\\\\\\\\\\"quick-start-ws\\\\\\\\\\\\\"}]}, \\\\\\\\\\\\\"localData\\\\\\\\\\\\\": {}, \\\\\\\\\\\\\"isEnabled\\\\\\\\\\\\\": true, \\\\\\\\\\\\\"name\\\\\\\\\\\\\": null, \\\\\\\\\\\\\"annotation\\\\\\\\\\\\\": null}, {\\\\\\\\\\\\\"id\\\\\\\\\\\\\": \\\\\\\\\\\\\"439a5af2-3450-47aa-80ca-828e2f493498\\\\\\\\\\\\\", \\\\\\\\\\\\\"type\\\\\\\\\\\\\": \\\\\\\\\\\\\"Microsoft.DPrep.ParseDelimitedBlock\\\\\\\\\\\\\", \\\\\\\\\\\\\"arguments\\\\\\\\\\\\\": {\\\\\\\\\\\\\"columnHeadersMode\\\\\\\\\\\\\": 3, \\\\\\\\\\\\\"fileEncoding\\\\\\\\\\\\\": 0, \\\\\\\\\\\\\"handleQuotedLineBreaks\\\\\\\\\\\\\": false, \\\\\\\\\\\\\"preview\\\\\\\\\\\\\": false, \\\\\\\\\\\\\"separator\\\\\\\\\\\\\": \\\\\\\\\\\\\",\\\\\\\\\\\\\", \\\\\\\\\\\\\"skipRows\\\\\\\\\\\\\": 0, \\\\\\\\\\\\\"skipRowsMode\\\\\\\\\\\\\": 0}, \\\\\\\\\\\\\"localData\\\\\\\\\\\\\": {}, \\\\\\\\\\\\\"isEnabled\\\\\\\\\\\\\": true, \\\\\\\\\\\\\"name\\\\\\\\\\\\\": null, \\\\\\\\\\\\\"annotation\\\\\\\\\\\\\": null}, {\\\\\\\\\\\\\"id\\\\\\\\\\\\\": \\\\\\\\\\\\\"b40e54dc-4cd8-490d-959e-84d61a6dc592\\\\\\\\\\\\\", \\\\\\\\\\\\\"type\\\\\\\\\\\\\": \\\\\\\\\\\\\"Microsoft.DPrep.DropColumnsBlock\\\\\\\\\\\\\", \\\\\\\\\\\\\"arguments\\\\\\\\\\\\\": {\\\\\\\\\\\\\"columns\\\\\\\\\\\\\": {\\\\\\\\\\\\\"type\\\\\\\\\\\\\": 0, \\\\\\\\\\\\\"details\\\\\\\\\\\\\": {\\\\\\\\\\\\\"selectedColumns\\\\\\\\\\\\\": [\\\\\\\\\\\\\"Path\\\\\\\\\\\\\"]}}}, \\\\\\\\\\\\\"localData\\\\\\\\\\\\\": {}, \\\\\\\\\\\\\"isEnabled\\\\\\\\\\\\\": true, \\\\\\\\\\\\\"name\\\\\\\\\\\\\": null, \\\\\\\\\\\\\"annotation\\\\\\\\\\\\\": null}, {\\\\\\\\\\\\\"id\\\\\\\\\\\\\": \\\\\\\\\\\\\"dcb9a848-5881-40a2-80ea-ce242fcd9dc2\\\\\\\\\\\\\", \\\\\\\\\\\\\"type\\\\\\\\\\\\\": \\\\\\\\\\\\\"Microsoft.DPrep.SetColumnTypesBlock\\\\\\\\\\\\\", \\\\\\\\\\\\\"arguments\\\\\\\\\\\\\": {\\\\\\\\\\\\\"columnConversion\\\\\\\\\\\\\": [{\\\\\\\\\\\\\"column\\\\\\\\\\\\\": {\\\\\\\\\\\\\"type\\\\\\\\\\\\\": 2, \\\\\\\\\\\\\"details\\\\\\\\\\\\\": {\\\\\\\\\\\\\"selectedColumn\\\\\\\\\\\\\": \\\\\\\\\\\\\"City\\\\\\\\\\\\\"}}, \\\\\\\\\\\\\"typeProperty\\\\\\\\\\\\\": 0}, {\\\\\\\\\\\\\"column\\\\\\\\\\\\\": {\\\\\\\\\\\\\"type\\\\\\\\\\\\\": 2, \\\\\\\\\\\\\"details\\\\\\\\\\\\\": {\\\\\\\\\\\\\"selectedColumn\\\\\\\\\\\\\": \\\\\\\\\\\\\"Email Domain\\\\\\\\\\\\\"}}, \\\\\\\\\\\\\"typeProperty\\\\\\\\\\\\\": 0}, {\\\\\\\\\\\\\"column\\\\\\\\\\\\\": {\\\\\\\\\\\\\"type\\\\\\\\\\\\\": 2, \\\\\\\\\\\\\"details\\\\\\\\\\\\\": {\\\\\\\\\\\\\"selectedColumn\\\\\\\\\\\\\": \\\\\\\\\\\\\"EmployeeLeft\\\\\\\\\\\\\"}}, \\\\\\\\\\\\\"typeProperty\\\\\\\\\\\\\": 3}, {\\\\\\\\\\\\\"column\\\\\\\\\\\\\": {\\\\\\\\\\\\\"type\\\\\\\\\\\\\": 2, \\\\\\\\\\\\\"details\\\\\\\\\\\\\": {\\\\\\\\\\\\\"selectedColumn\\\\\\\\\\\\\": \\\\\\\\\\\\\"Hired through SMTP\\\\\\\\\\\\\"}}, \\\\\\\\\\\\\"typeProperty\\\\\\\\\\\\\": 2}, {\\\\\\\\\\\\\"column\\\\\\\\\\\\\": {\\\\\\\\\\\\\"type\\\\\\\\\\\\\": 2, \\\\\\\\\\\\\"details\\\\\\\\\\\\\": {\\\\\\\\\\\\\"selectedColumn\\\\\\\\\\\\\": \\\\\\\\\\\\\"Manager Rating of Likelihood to leave\\\\\\\\\\\\\"}}, \\\\\\\\\\\\\"typeProperty\\\\\\\\\\\\\": 3}, {\\\\\\\\\\\\\"column\\\\\\\\\\\\\": {\\\\\\\\\\\\\"type\\\\\\\\\\\\\": 2, \\\\\\\\\\\\\"details\\\\\\\\\\\\\": {\\\\\\\\\\\\\"selectedColumn\\\\\\\\\\\\\": \\\\\\\\\\\\\"Marked for PHT Program\\\\\\\\\\\\\"}}, \\\\\\\\\\\\\"typeProperty\\\\\\\\\\\\\": 2}, {\\\\\\\\\\\\\"column\\\\\\\\\\\\\": {\\\\\\\\\\\\\"type\\\\\\\\\\\\\": 2, \\\\\\\\\\\\\"details\\\\\\\\\\\\\": {\\\\\\\\\\\\\"selectedColumn\\\\\\\\\\\\\": \\\\\\\\\\\\\"Most Recent Performance Evaluation\\\\\\\\\\\\\"}}, \\\\\\\\\\\\\"typeProperty\\\\\\\\\\\\\": 3}, {\\\\\\\\\\\\\"column\\\\\\\\\\\\\": {\\\\\\\\\\\\\"type\\\\\\\\\\\\\": 2, \\\\\\\\\\\\\"details\\\\\\\\\\\\\": {\\\\\\\\\\\\\"selectedColumn\\\\\\\\\\\\\": \\\\\\\\\\\\\"Social Media Activity (Twitter, Facebook, Instagram)\\\\\\\\\\\\\"}}, \\\\\\\\\\\\\"typeProperty\\\\\\\\\\\\\": 2}, {\\\\\\\\\\\\\"column\\\\\\\\\\\\\": {\\\\\\\\\\\\\"type\\\\\\\\\\\\\": 2, \\\\\\\\\\\\\"details\\\\\\\\\\\\\": {\\\\\\\\\\\\\"selectedColumn\\\\\\\\\\\\\": \\\\\\\\\\\\\"Survey, Relative, Attitude toward WorkType\\\\\\\\\\\\\"}}, \\\\\\\\\\\\\"typeProperty\\\\\\\\\\\\\": 2}, {\\\\\\\\\\\\\"column\\\\\\\\\\\\\": {\\\\\\\\\\\\\"type\\\\\\\\\\\\\": 2, \\\\\\\\\\\\\"details\\\\\\\\\\\\\": {\\\\\\\\\\\\\"selectedColumn\\\\\\\\\\\\\": \\\\\\\\\\\\\"Survey, Relative, Attitude toward Workload\\\\\\\\\\\\\"}}, \\\\\\\\\\\\\"typeProperty\\\\\\\\\\\\\": 2}, {\\\\\\\\\\\\\"column\\\\\\\\\\\\\": {\\\\\\\\\\\\\"type\\\\\\\\\\\\\": 2, \\\\\\\\\\\\\"details\\\\\\\\\\\\\": {\\\\\\\\\\\\\"selectedColumn\\\\\\\\\\\\\": \\\\\\\\\\\\\"Survey, Relative, Peer\\'s Average Attitude toward Manager\\\\\\\\\\\\\"}}, \\\\\\\\\\\\\"typeProperty\\\\\\\\\\\\\": 2}]}, \\\\\\\\\\\\\"localData\\\\\\\\\\\\\": {}, \\\\\\\\\\\\\"isEnabled\\\\\\\\\\\\\": true, \\\\\\\\\\\\\"name\\\\\\\\\\\\\": null, \\\\\\\\\\\\\"annotation\\\\\\\\\\\\\": null}, {\\\\\\\\\\\\\"id\\\\\\\\\\\\\": \\\\\\\\\\\\\"62d3fed4-dd9f-4287-a5ba-2cda0e15e3d4\\\\\\\\\\\\\", \\\\\\\\\\\\\"type\\\\\\\\\\\\\": \\\\\\\\\\\\\"Microsoft.DPrep.RandomSplitBlock\\\\\\\\\\\\\", \\\\\\\\\\\\\"arguments\\\\\\\\\\\\\": {\\\\\\\\\\\\\"probability\\\\\\\\\\\\\": 0.8, \\\\\\\\\\\\\"seed\\\\\\\\\\\\\": 223}, \\\\\\\\\\\\\"localData\\\\\\\\\\\\\": {}, \\\\\\\\\\\\\"isEnabled\\\\\\\\\\\\\": true, \\\\\\\\\\\\\"name\\\\\\\\\\\\\": null, \\\\\\\\\\\\\"annotation\\\\\\\\\\\\\": null}], \\\\\\\\\\\\\"inspectors\\\\\\\\\\\\\": [], \\\\\\\\\\\\\"meta\\\\\\\\\\\\\": {\\\\\\\\\\\\\"savedDatasetId\\\\\\\\\\\\\": \\\\\\\\\\\\\"e1533225-bd2b-4b68-950d-92b0c69827a0\\\\\\\\\\\\\", \\\\\\\\\\\\\"datasetType\\\\\\\\\\\\\": \\\\\\\\\\\\\"tabular\\\\\\\\\\\\\", \\\\\\\\\\\\\"subscriptionId\\\\\\\\\\\\\": \\\\\\\\\\\\\"93231767-b41d-4cbb-a2d3-2137400dfde2\\\\\\\\\\\\\", \\\\\\\\\\\\\"workspaceId\\\\\\\\\\\\\": \\\\\\\\\\\\\"b3e371c9-0af9-42d6-9c07-6668a960af4f\\\\\\\\\\\\\", \\\\\\\\\\\\\"workspaceLocation\\\\\\\\\\\\\": \\\\\\\\\\\\\"eastus\\\\\\\\\\\\\"}}\\\\\", \\\\\"activities\\\\\": 0}',\n",
              "  'EnableSubsampling': None,\n",
              "  'runTemplate': 'AutoML',\n",
              "  'azureml.runsource': 'automl',\n",
              "  'display_task_type': 'classification',\n",
              "  'dependencies_versions': '{\"azureml-widgets\": \"1.17.0\", \"azureml-train\": \"1.17.0\", \"azureml-train-restclients-hyperdrive\": \"1.17.0\", \"azureml-train-core\": \"1.17.0\", \"azureml-train-automl\": \"1.17.0\", \"azureml-train-automl-runtime\": \"1.17.0\", \"azureml-train-automl-client\": \"1.17.0\", \"azureml-tensorboard\": \"1.17.0\", \"azureml-telemetry\": \"1.17.0\", \"azureml-sdk\": \"1.17.0\", \"azureml-samples\": \"0+unknown\", \"azureml-pipeline\": \"1.17.0\", \"azureml-pipeline-steps\": \"1.17.0\", \"azureml-pipeline-core\": \"1.17.0\", \"azureml-opendatasets\": \"1.17.0\", \"azureml-model-management-sdk\": \"1.0.1b6.post1\", \"azureml-mlflow\": \"1.17.0.post1\", \"azureml-interpret\": \"1.17.0\", \"azureml-explain-model\": \"1.17.0\", \"azureml-defaults\": \"1.17.0\", \"azureml-dataset-runtime\": \"1.17.0\", \"azureml-dataprep\": \"2.4.2\", \"azureml-dataprep-rslex\": \"1.2.2\", \"azureml-dataprep-native\": \"24.0.0\", \"azureml-datadrift\": \"1.17.0\", \"azureml-core\": \"1.17.0\", \"azureml-contrib-services\": \"1.17.0\", \"azureml-contrib-server\": \"1.17.0\", \"azureml-contrib-reinforcementlearning\": \"1.17.0\", \"azureml-contrib-pipeline-steps\": \"1.17.0\", \"azureml-contrib-notebook\": \"1.17.0\", \"azureml-contrib-interpret\": \"1.17.0\", \"azureml-contrib-gbdt\": \"1.17.0\", \"azureml-contrib-fairness\": \"1.17.0\", \"azureml-contrib-dataset\": \"1.17.0\", \"azureml-cli-common\": \"1.17.0\", \"azureml-automl-runtime\": \"1.17.0\", \"azureml-automl-core\": \"1.17.0\", \"azureml-accel-models\": \"1.17.0\"}',\n",
              "  '_aml_system_scenario_identification': 'Remote.Parent',\n",
              "  'ClientType': 'SDK',\n",
              "  'environment_cpu_name': 'AzureML-AutoML',\n",
              "  'environment_cpu_version': '44',\n",
              "  'environment_gpu_name': 'AzureML-AutoML-GPU',\n",
              "  'environment_gpu_version': '32',\n",
              "  'root_attribution': 'automl',\n",
              "  'attribution': 'AutoML',\n",
              "  'Orchestrator': 'AutoML',\n",
              "  'CancelUri': 'https://eastus.experiments.azureml.net/jasmine/v1.0/subscriptions/93231767-b41d-4cbb-a2d3-2137400dfde2/resourceGroups/MCW-MLOps/providers/Microsoft.MachineLearningServices/workspaces/quick-start-ws/experimentids/810f68ee-eb77-4fe6-94dd-2c633cd2d242/cancel/AutoML_9b09fd28-d543-4b5a-9e51-e3a796931772',\n",
              "  'ClientSdkVersion': '1.17.0',\n",
              "  'snapshotId': '00000000-0000-0000-0000-000000000000',\n",
              "  'SetupRunId': 'AutoML_9b09fd28-d543-4b5a-9e51-e3a796931772_setup',\n",
              "  'SetupRunContainerId': 'dcid.AutoML_9b09fd28-d543-4b5a-9e51-e3a796931772_setup',\n",
              "  'FeaturizationRunJsonPath': 'featurizer_container.json',\n",
              "  'FeaturizationRunId': 'AutoML_9b09fd28-d543-4b5a-9e51-e3a796931772_featurize',\n",
              "  'ProblemInfoJsonString': '{\"dataset_num_categorical\": 0, \"is_sparse\": true, \"subsampling\": false, \"dataset_classes\": 2, \"dataset_features\": 48, \"dataset_samples\": 11212, \"single_frequency_class_detected\": false}',\n",
              "  'ModelExplainRunId': 'AutoML_9b09fd28-d543-4b5a-9e51-e3a796931772_ModelExplain'},\n",
              " 'inputDatasets': [{'dataset': {'id': 'e1533225-bd2b-4b68-950d-92b0c69827a0'}, 'consumptionDetails': {'type': 'RunInput', 'inputName': 'training_data', 'mechanism': 'Direct'}}],\n",
              " 'outputDatasets': [],\n",
              " 'logFiles': {}}"
            ]
          },
          "metadata": {},
          "execution_count": 12
        }
      ],
      "source": [
        "# Wait for experiment to complete. This usually takes 20-30 mins\n",
        "remote_run.wait_for_completion(show_output=True)"
      ]
    },
    {
      "cell_type": "code",
      "execution_count": 15,
      "metadata": {},
      "outputs": [
        {
          "output_type": "execute_result",
          "data": {
            "text/plain": [
              "'AutoML_9b09fd28-d543-4b5a-9e51-e3a796931772'"
            ]
          },
          "metadata": {},
          "execution_count": 15
        }
      ],
      "source": [
        "# Get the parent run id of the experiment\n",
        "remote_run.run_id\n"
      ]
    },
    {
      "cell_type": "code",
      "execution_count": 5,
      "metadata": {},
      "outputs": [],
      "source": [
        "# Instantiate AutoMLRun object in order to get AutoML related metrics and output\n",
        "# Last good runs 'AutoML_da7d5f0a-9ac4-4330-bb94-818a8ec80b26' , 'AutoML_9b09fd28-d543-4b5a-9e51-e3a796931772'\n",
        "\n",
        "from azureml.train.automl.run import AutoMLRun\n",
        "\n",
        "automl_run = AutoMLRun(experiment = experiment, run_id = remote_run.run_id)"
      ]
    },
    {
      "cell_type": "code",
      "execution_count": 6,
      "metadata": {},
      "outputs": [],
      "source": [
        "# Retrieve the best model and associated run id ad best_run\n",
        "best_run, fitted_model = automl_run.get_output()"
      ]
    },
    {
      "cell_type": "code",
      "execution_count": 7,
      "metadata": {},
      "outputs": [
        {
          "output_type": "execute_result",
          "data": {
            "text/plain": [
              "['City_CharGramCountVectorizer_bandung',\n",
              " 'City_CharGramCountVectorizer_beaverlodge',\n",
              " 'City_CharGramCountVectorizer_ell',\n",
              " 'City_CharGramCountVectorizer_kuala terengganu',\n",
              " 'City_CharGramCountVectorizer_liancheng',\n",
              " 'City_CharGramCountVectorizer_nuoxizhi',\n",
              " 'City_CharGramCountVectorizer_sandaohezi',\n",
              " 'Email Domain_CharGramCountVectorizer_cbslocal.com',\n",
              " 'Email Domain_CharGramCountVectorizer_exblog.jp',\n",
              " 'Email Domain_CharGramCountVectorizer_nps.gov',\n",
              " 'Email Domain_CharGramCountVectorizer_sciencedaily.com',\n",
              " 'Email Domain_CharGramCountVectorizer_springer.com',\n",
              " 'Email Domain_CharGramCountVectorizer_upenn.edu',\n",
              " 'Email Domain_CharGramCountVectorizer_usda.gov',\n",
              " 'Email Domain_CharGramCountVectorizer_youtu.be',\n",
              " 'Hired through SMTP_ModeCatImputer_LabelEncoder',\n",
              " 'Marked for PHT Program_ModeCatImputer_LabelEncoder',\n",
              " 'Social Media Activity (Twitter, Facebook, Instagram)_CharGramCountVectorizer_0',\n",
              " 'Social Media Activity (Twitter, Facebook, Instagram)_CharGramCountVectorizer_1',\n",
              " 'Social Media Activity (Twitter, Facebook, Instagram)_CharGramCountVectorizer_2',\n",
              " 'Social Media Activity (Twitter, Facebook, Instagram)_CharGramCountVectorizer_3',\n",
              " 'Social Media Activity (Twitter, Facebook, Instagram)_CharGramCountVectorizer_4',\n",
              " 'Social Media Activity (Twitter, Facebook, Instagram)_CharGramCountVectorizer_5',\n",
              " 'Social Media Activity (Twitter, Facebook, Instagram)_CharGramCountVectorizer_6',\n",
              " 'Social Media Activity (Twitter, Facebook, Instagram)_CharGramCountVectorizer_7',\n",
              " 'Survey, Relative, Attitude toward WorkType_CharGramCountVectorizer_1',\n",
              " 'Survey, Relative, Attitude toward WorkType_CharGramCountVectorizer_2',\n",
              " 'Survey, Relative, Attitude toward WorkType_CharGramCountVectorizer_3',\n",
              " 'Survey, Relative, Attitude toward WorkType_CharGramCountVectorizer_4',\n",
              " 'Survey, Relative, Attitude toward WorkType_CharGramCountVectorizer_5',\n",
              " 'Survey, Relative, Attitude toward WorkType_CharGramCountVectorizer_6',\n",
              " 'Survey, Relative, Attitude toward Workload_CharGramCountVectorizer_1',\n",
              " 'Survey, Relative, Attitude toward Workload_CharGramCountVectorizer_2',\n",
              " 'Survey, Relative, Attitude toward Workload_CharGramCountVectorizer_3',\n",
              " 'Survey, Relative, Attitude toward Workload_CharGramCountVectorizer_4',\n",
              " 'Survey, Relative, Attitude toward Workload_CharGramCountVectorizer_5',\n",
              " 'Survey, Relative, Attitude toward Workload_CharGramCountVectorizer_6',\n",
              " 'Survey, Relative, Attitude toward Workload_CharGramCountVectorizer_7',\n",
              " \"Survey, Relative, Peer's Average Attitude toward Manager_CharGramCountVectorizer_1\",\n",
              " \"Survey, Relative, Peer's Average Attitude toward Manager_CharGramCountVectorizer_2\",\n",
              " \"Survey, Relative, Peer's Average Attitude toward Manager_CharGramCountVectorizer_3\",\n",
              " \"Survey, Relative, Peer's Average Attitude toward Manager_CharGramCountVectorizer_4\",\n",
              " \"Survey, Relative, Peer's Average Attitude toward Manager_CharGramCountVectorizer_5\",\n",
              " \"Survey, Relative, Peer's Average Attitude toward Manager_CharGramCountVectorizer_6\",\n",
              " \"Survey, Relative, Peer's Average Attitude toward Manager_CharGramCountVectorizer_7\",\n",
              " \"Survey, Relative, Peer's Average Attitude toward Manager_CharGramCountVectorizer_8\",\n",
              " 'Manager Rating of Likelihood to leave_MeanImputer',\n",
              " 'Most Recent Performance Evaluation_MeanImputer']"
            ]
          },
          "metadata": {},
          "execution_count": 7
        }
      ],
      "source": [
        "# List all the features engineered by Auto ML\n",
        "fitted_model.named_steps['datatransformer'].get_engineered_feature_names()"
      ]
    },
    {
      "cell_type": "code",
      "execution_count": 8,
      "metadata": {},
      "outputs": [
        {
          "output_type": "execute_result",
          "data": {
            "text/plain": [
              "[{'RawFeatureName': 'City',\n",
              "  'TypeDetected': 'Categorical',\n",
              "  'Dropped': 'No',\n",
              "  'EngineeredFeatureCount': 7,\n",
              "  'Transformations': ['StringCast-CharGramCountVectorizer']},\n",
              " {'RawFeatureName': 'Email Domain',\n",
              "  'TypeDetected': 'Categorical',\n",
              "  'Dropped': 'No',\n",
              "  'EngineeredFeatureCount': 8,\n",
              "  'Transformations': ['StringCast-CharGramCountVectorizer']},\n",
              " {'RawFeatureName': 'Hired through SMTP',\n",
              "  'TypeDetected': 'Categorical',\n",
              "  'Dropped': 'No',\n",
              "  'EngineeredFeatureCount': 1,\n",
              "  'Transformations': ['ModeCatImputer-StringCast-LabelEncoder']},\n",
              " {'RawFeatureName': 'Marked for PHT Program',\n",
              "  'TypeDetected': 'Categorical',\n",
              "  'Dropped': 'No',\n",
              "  'EngineeredFeatureCount': 1,\n",
              "  'Transformations': ['ModeCatImputer-StringCast-LabelEncoder']},\n",
              " {'RawFeatureName': 'Social Media Activity (Twitter, Facebook, Instagram)',\n",
              "  'TypeDetected': 'Categorical',\n",
              "  'Dropped': 'No',\n",
              "  'EngineeredFeatureCount': 8,\n",
              "  'Transformations': ['StringCast-CharGramCountVectorizer']},\n",
              " {'RawFeatureName': 'Survey, Relative, Attitude toward WorkType',\n",
              "  'TypeDetected': 'Categorical',\n",
              "  'Dropped': 'No',\n",
              "  'EngineeredFeatureCount': 6,\n",
              "  'Transformations': ['StringCast-CharGramCountVectorizer']},\n",
              " {'RawFeatureName': 'Survey, Relative, Attitude toward Workload',\n",
              "  'TypeDetected': 'Categorical',\n",
              "  'Dropped': 'No',\n",
              "  'EngineeredFeatureCount': 7,\n",
              "  'Transformations': ['StringCast-CharGramCountVectorizer']},\n",
              " {'RawFeatureName': \"Survey, Relative, Peer's Average Attitude toward Manager\",\n",
              "  'TypeDetected': 'Categorical',\n",
              "  'Dropped': 'No',\n",
              "  'EngineeredFeatureCount': 8,\n",
              "  'Transformations': ['StringCast-CharGramCountVectorizer']},\n",
              " {'RawFeatureName': 'Manager Rating of Likelihood to leave',\n",
              "  'TypeDetected': 'Numeric',\n",
              "  'Dropped': 'No',\n",
              "  'EngineeredFeatureCount': 1,\n",
              "  'Transformations': ['MeanImputer']},\n",
              " {'RawFeatureName': 'Most Recent Performance Evaluation',\n",
              "  'TypeDetected': 'Numeric',\n",
              "  'Dropped': 'No',\n",
              "  'EngineeredFeatureCount': 1,\n",
              "  'Transformations': ['MeanImputer']}]"
            ]
          },
          "metadata": {},
          "execution_count": 8
        }
      ],
      "source": [
        "# Get featurization summary of all input features\n",
        "fitted_model.named_steps['datatransformer'].get_featurization_summary()"
      ]
    },
    {
      "cell_type": "code",
      "execution_count": 20,
      "metadata": {},
      "outputs": [
        {
          "output_type": "stream",
          "name": "stdout",
          "text": [
            "datatransformer\n{'allow_chargram': None,\n 'enable_dnn': None,\n 'enable_feature_sweeping': None,\n 'feature_sweeping_config': None,\n 'feature_sweeping_timeout': None,\n 'featurization_config': None,\n 'force_text_dnn': None,\n 'is_cross_validation': None,\n 'is_onnx_compatible': None,\n 'logger': None,\n 'observer': None,\n 'task': None,\n 'working_dir': None}\n\nprefittedsoftvotingclassifier\n{'estimators': ['1', '0', '27', '32', '26', '29', '15'],\n 'weights': [0.15384615384615385,\n             0.15384615384615385,\n             0.15384615384615385,\n             0.07692307692307693,\n             0.07692307692307693,\n             0.07692307692307693,\n             0.3076923076923077]}\n\n1 - maxabsscaler\n{'copy': True}\n\n1 - xgboostclassifier\n{'base_score': 0.5,\n 'booster': 'gbtree',\n 'colsample_bylevel': 1,\n 'colsample_bynode': 1,\n 'colsample_bytree': 1,\n 'gamma': 0,\n 'learning_rate': 0.1,\n 'max_delta_step': 0,\n 'max_depth': 3,\n 'min_child_weight': 1,\n 'missing': nan,\n 'n_estimators': 100,\n 'n_jobs': 1,\n 'nthread': None,\n 'objective': 'binary:logistic',\n 'random_state': 0,\n 'reg_alpha': 0,\n 'reg_lambda': 1,\n 'scale_pos_weight': 1,\n 'seed': None,\n 'silent': None,\n 'subsample': 1,\n 'tree_method': 'auto',\n 'verbose': -10,\n 'verbosity': 0}\n\n0 - maxabsscaler\n{'copy': True}\n\n0 - lightgbmclassifier\n{'boosting_type': 'gbdt',\n 'class_weight': None,\n 'colsample_bytree': 1.0,\n 'importance_type': 'split',\n 'learning_rate': 0.1,\n 'max_depth': -1,\n 'min_child_samples': 20,\n 'min_child_weight': 0.001,\n 'min_split_gain': 0.0,\n 'n_estimators': 100,\n 'n_jobs': 1,\n 'num_leaves': 31,\n 'objective': None,\n 'random_state': None,\n 'reg_alpha': 0.0,\n 'reg_lambda': 0.0,\n 'silent': True,\n 'subsample': 1.0,\n 'subsample_for_bin': 200000,\n 'subsample_freq': 0,\n 'verbose': -10}\n\n27 - sparsenormalizer\n{'copy': True, 'norm': 'l1'}\n\n27 - lightgbmclassifier\n{'boosting_type': 'goss',\n 'class_weight': None,\n 'colsample_bytree': 0.4955555555555555,\n 'importance_type': 'split',\n 'learning_rate': 0.0842121052631579,\n 'max_bin': 320,\n 'max_depth': 2,\n 'min_child_samples': 117,\n 'min_child_weight': 0,\n 'min_split_gain': 0.05263157894736842,\n 'n_estimators': 200,\n 'n_jobs': 1,\n 'num_leaves': 173,\n 'objective': None,\n 'random_state': None,\n 'reg_alpha': 0.3684210526315789,\n 'reg_lambda': 0.7368421052631579,\n 'silent': True,\n 'subsample': 1,\n 'subsample_for_bin': 200000,\n 'subsample_freq': 0,\n 'verbose': -10}\n\n32 - sparsenormalizer\n{'copy': True, 'norm': 'l1'}\n\n32 - xgboostclassifier\n{'base_score': 0.5,\n 'booster': 'gbtree',\n 'colsample_bylevel': 1,\n 'colsample_bynode': 1,\n 'colsample_bytree': 0.7,\n 'eta': 0.1,\n 'gamma': 0,\n 'learning_rate': 0.1,\n 'max_delta_step': 0,\n 'max_depth': 8,\n 'max_leaves': 31,\n 'min_child_weight': 1,\n 'missing': nan,\n 'n_estimators': 100,\n 'n_jobs': 1,\n 'nthread': None,\n 'objective': 'reg:logistic',\n 'random_state': 0,\n 'reg_alpha': 1.9791666666666667,\n 'reg_lambda': 1.4583333333333335,\n 'scale_pos_weight': 1,\n 'seed': None,\n 'silent': None,\n 'subsample': 0.5,\n 'tree_method': 'auto',\n 'verbose': -10,\n 'verbosity': 0}\n\n26 - standardscalerwrapper\n{'class_name': 'StandardScaler',\n 'copy': True,\n 'module_name': 'sklearn.preprocessing._data',\n 'with_mean': False,\n 'with_std': False}\n\n26 - xgboostclassifier\n{'base_score': 0.5,\n 'booster': 'gbtree',\n 'colsample_bylevel': 1,\n 'colsample_bynode': 1,\n 'colsample_bytree': 0.6,\n 'eta': 0.2,\n 'gamma': 5,\n 'learning_rate': 0.1,\n 'max_delta_step': 0,\n 'max_depth': 5,\n 'max_leaves': 31,\n 'min_child_weight': 1,\n 'missing': nan,\n 'n_estimators': 50,\n 'n_jobs': 1,\n 'nthread': None,\n 'objective': 'reg:logistic',\n 'random_state': 0,\n 'reg_alpha': 1.4583333333333335,\n 'reg_lambda': 0.7291666666666667,\n 'scale_pos_weight': 1,\n 'seed': None,\n 'silent': None,\n 'subsample': 0.9,\n 'tree_method': 'auto',\n 'verbose': -10,\n 'verbosity': 0}\n\n29 - sparsenormalizer\n{'copy': True, 'norm': 'l1'}\n\n29 - xgboostclassifier\n{'base_score': 0.5,\n 'booster': 'gbtree',\n 'colsample_bylevel': 1,\n 'colsample_bynode': 1,\n 'colsample_bytree': 0.6,\n 'eta': 0.001,\n 'gamma': 0,\n 'learning_rate': 0.1,\n 'max_delta_step': 0,\n 'max_depth': 10,\n 'max_leaves': 7,\n 'min_child_weight': 1,\n 'missing': nan,\n 'n_estimators': 100,\n 'n_jobs': 1,\n 'nthread': None,\n 'objective': 'reg:logistic',\n 'random_state': 0,\n 'reg_alpha': 2.291666666666667,\n 'reg_lambda': 0.20833333333333334,\n 'scale_pos_weight': 1,\n 'seed': None,\n 'silent': None,\n 'subsample': 0.9,\n 'tree_method': 'auto',\n 'verbose': -10,\n 'verbosity': 0}\n\n15 - maxabsscaler\n{'copy': True}\n\n15 - sgdclassifierwrapper\n{'alpha': 0.0001,\n 'class_weight': 'balanced',\n 'eta0': 0.001,\n 'fit_intercept': True,\n 'l1_ratio': 0.836734693877551,\n 'learning_rate': 'constant',\n 'loss': 'modified_huber',\n 'max_iter': 1000,\n 'n_jobs': 1,\n 'penalty': 'l2',\n 'power_t': 0.2222222222222222,\n 'random_state': None,\n 'tol': 0.0001}\n\n"
          ]
        }
      ],
      "source": [
        "# Display model properties\n",
        "\n",
        "from pprint import pprint\n",
        "\n",
        "def print_model(model, prefix=\"\"):\n",
        "    for step in model.steps:\n",
        "        print(prefix + step[0])\n",
        "        if hasattr(step[1], 'estimators') and hasattr(step[1], 'weights'):\n",
        "            pprint({'estimators': list(\n",
        "                e[0] for e in step[1].estimators), 'weights': step[1].weights})\n",
        "            print()\n",
        "            for estimator in step[1].estimators:\n",
        "                print_model(estimator[1], estimator[0] + ' - ')\n",
        "        else:\n",
        "            pprint(step[1].get_params())\n",
        "            print()\n",
        "\n",
        "print_model(fitted_model)"
      ]
    },
    {
      "cell_type": "code",
      "execution_count": 21,
      "metadata": {},
      "outputs": [
        {
          "output_type": "stream",
          "name": "stdout",
          "text": [
            "{'Survey, Relative, Attitude toward WorkType_CharGramCountVectorizer_1': 0.9418254909646459, \"Survey, Relative, Peer's Average Attitude toward Manager_CharGramCountVectorizer_1\": 0.6860528911302267, 'Manager Rating of Likelihood to leave_MeanImputer': 0.46837824411075935, 'City_CharGramCountVectorizer_bandung': 0.45799893975782313, 'Survey, Relative, Attitude toward WorkType_CharGramCountVectorizer_2': 0.40795208618625467, 'Survey, Relative, Attitude toward Workload_CharGramCountVectorizer_1': 0.3536603643073425, 'City_CharGramCountVectorizer_liancheng': 0.28012961100746664, \"Survey, Relative, Peer's Average Attitude toward Manager_CharGramCountVectorizer_2\": 0.2570319321233441, 'Marked for PHT Program_ModeCatImputer_LabelEncoder': 0.254615777311015, 'Email Domain_CharGramCountVectorizer_youtu.be': 0.21337854978811102, 'City_CharGramCountVectorizer_beaverlodge': 0.20333854814347616, 'Survey, Relative, Attitude toward Workload_CharGramCountVectorizer_2': 0.14507755374907264, 'Most Recent Performance Evaluation_MeanImputer': 0.12423097372788584, 'Survey, Relative, Attitude toward WorkType_CharGramCountVectorizer_3': 0.11781482107072157, 'Survey, Relative, Attitude toward WorkType_CharGramCountVectorizer_6': 0.10755351209882012, 'Email Domain_CharGramCountVectorizer_cbslocal.com': 0.09906586743784679, 'City_CharGramCountVectorizer_kuala terengganu': 0.08319366293905803, 'City_CharGramCountVectorizer_ell': 0.06732759888750374, 'Survey, Relative, Attitude toward Workload_CharGramCountVectorizer_3': 0.050674287709123855, \"Survey, Relative, Peer's Average Attitude toward Manager_CharGramCountVectorizer_3\": 0.04308887280496162, 'Survey, Relative, Attitude toward Workload_CharGramCountVectorizer_7': 0.041383719296096286, 'Survey, Relative, Attitude toward WorkType_CharGramCountVectorizer_5': 0.0389526765252669, 'City_CharGramCountVectorizer_nuoxizhi': 0.03196836951939181, \"Survey, Relative, Peer's Average Attitude toward Manager_CharGramCountVectorizer_4\": 0.02004951264953346, 'Email Domain_CharGramCountVectorizer_springer.com': 0.01827108266644046, 'Social Media Activity (Twitter, Facebook, Instagram)_CharGramCountVectorizer_0': 0.0151262801846364, 'Email Domain_CharGramCountVectorizer_exblog.jp': 0.014077468775364432, 'City_CharGramCountVectorizer_sandaohezi': 0.012505117097420365, 'Survey, Relative, Attitude toward Workload_CharGramCountVectorizer_4': 0.01189807021168115, 'Survey, Relative, Attitude toward Workload_CharGramCountVectorizer_6': 0.010224107697750449, 'Social Media Activity (Twitter, Facebook, Instagram)_CharGramCountVectorizer_2': 0.00819725757847357, 'Survey, Relative, Attitude toward WorkType_CharGramCountVectorizer_4': 0.007373271672746721, \"Survey, Relative, Peer's Average Attitude toward Manager_CharGramCountVectorizer_5\": 0.006123958438634291, 'Survey, Relative, Attitude toward Workload_CharGramCountVectorizer_5': 0.005143402093640403, 'Hired through SMTP_ModeCatImputer_LabelEncoder': 0.00493836471704847, 'Social Media Activity (Twitter, Facebook, Instagram)_CharGramCountVectorizer_1': 0.002032190391755308, 'Social Media Activity (Twitter, Facebook, Instagram)_CharGramCountVectorizer_4': 0.0012515786248750767, 'Email Domain_CharGramCountVectorizer_upenn.edu': 0.0006951011053528225, 'Email Domain_CharGramCountVectorizer_nps.gov': 0.0005557231579843116, 'Social Media Activity (Twitter, Facebook, Instagram)_CharGramCountVectorizer_3': 0.00014432174086503625, 'Email Domain_CharGramCountVectorizer_sciencedaily.com': 0.0, 'Social Media Activity (Twitter, Facebook, Instagram)_CharGramCountVectorizer_5': 0.0, 'Social Media Activity (Twitter, Facebook, Instagram)_CharGramCountVectorizer_7': 0.0, \"Survey, Relative, Peer's Average Attitude toward Manager_CharGramCountVectorizer_7\": 0.0, 'Email Domain_CharGramCountVectorizer_usda.gov': 0.0, \"Survey, Relative, Peer's Average Attitude toward Manager_CharGramCountVectorizer_6\": 0.0, \"Survey, Relative, Peer's Average Attitude toward Manager_CharGramCountVectorizer_8\": 0.0, 'Social Media Activity (Twitter, Facebook, Instagram)_CharGramCountVectorizer_6': 0.0}\n"
          ]
        }
      ],
      "source": [
        "# Explain model\n",
        "\n",
        "from azureml.interpret import ExplanationClient\n",
        "\n",
        "client = ExplanationClient.from_run(best_run)\n",
        "engineered_explanations = client.download_model_explanation(raw=False)\n",
        "\n",
        "print(engineered_explanations.get_feature_importance_dict())"
      ]
    },
    {
      "cell_type": "markdown",
      "metadata": {},
      "source": [
        "## Test the fitted model\n",
        "\n",
        "Now that the model is trained, split the data in the same way the data was split for training (The difference here is the data is being split locally) and then run the test data through the trained model to get the predicted values."
      ]
    },
    {
      "cell_type": "code",
      "execution_count": 22,
      "metadata": {},
      "outputs": [],
      "source": [
        "# convert the test data to dataframe\n",
        "X_test_df = validation_data.drop_columns(columns=[label_column_name]).to_pandas_dataframe()\n",
        "y_test_df = validation_data.keep_columns(columns=[label_column_name], validate=True).to_pandas_dataframe()"
      ]
    },
    {
      "cell_type": "code",
      "execution_count": 23,
      "metadata": {},
      "outputs": [
        {
          "output_type": "execute_result",
          "data": {
            "text/plain": [
              "array([1., 1., 1., ..., 1., 1., 1.])"
            ]
          },
          "metadata": {},
          "execution_count": 23
        }
      ],
      "source": [
        "# call the predict functions on the model\n",
        "y_pred = fitted_model.predict(X_test_df)\n",
        "y_pred"
      ]
    },
    {
      "cell_type": "markdown",
      "metadata": {},
      "source": [
        "### Calculate metrics for the prediction\n",
        "\n",
        "Now visualize the data on a scatter plot to show what our truth (actual) values are compared to the predicted values \n",
        "from the trained model that was returned."
      ]
    },
    {
      "cell_type": "code",
      "execution_count": 24,
      "metadata": {},
      "outputs": [
        {
          "output_type": "display_data",
          "data": {
            "text/plain": "<Figure size 432x288 with 2 Axes>",
            "image/svg+xml": "<?xml version=\"1.0\" encoding=\"utf-8\" standalone=\"no\"?>\n<!DOCTYPE svg PUBLIC \"-//W3C//DTD SVG 1.1//EN\"\n  \"http://www.w3.org/Graphics/SVG/1.1/DTD/svg11.dtd\">\n<!-- Created with matplotlib (https://matplotlib.org/) -->\n<svg height=\"277.314375pt\" version=\"1.1\" viewBox=\"0 0 337.687937 277.314375\" width=\"337.687937pt\" xmlns=\"http://www.w3.org/2000/svg\" xmlns:xlink=\"http://www.w3.org/1999/xlink\">\n <defs>\n  <style type=\"text/css\">\n*{stroke-linecap:butt;stroke-linejoin:round;}\n  </style>\n </defs>\n <g id=\"figure_1\">\n  <g id=\"patch_1\">\n   <path d=\"M 0 277.314375 \nL 337.687937 277.314375 \nL 337.687937 0 \nL 0 0 \nz\n\" style=\"fill:none;\"/>\n  </g>\n  <g id=\"axes_1\">\n   <g id=\"patch_2\">\n    <path d=\"M 52.985937 239.758125 \nL 270.425937 239.758125 \nL 270.425937 22.318125 \nL 52.985937 22.318125 \nz\n\" style=\"fill:#ffffff;\"/>\n   </g>\n   <g clip-path=\"url(#p605d0413a2)\">\n    <image height=\"218\" id=\"image951ec1d643\" transform=\"scale(1 -1)translate(0 -218)\" width=\"218\" x=\"52.985937\" xlink:href=\"data:image/png;base64,\niVBORw0KGgoAAAANSUhEUgAAANoAAADaCAYAAADAHVzbAAAABHNCSVQICAgIfAhkiAAAAppJREFUeJzt1UENwlAABUFKMFAxeEAMagiWSOqlAjhwKBr+ZX8IMwreZfOW9+c4TvyU9XqfPYFB59kD4B8IDQJCg4DQICA0CAgNAkKDgNAgIDQICA0CQoOA0CAgNAgIDQJCg4DQICA0CAgNAkKDgNAgIDQICA0CQoOA0CAgNAgIDQJCg4DQICA0CAgNAkKDgNAgIDQICA0CQoOA0CAgNAgIDQJCg4DQICA0CAgNAkKDgNAgIDQICA0CQoOA0CAgNAgIDQJCg4DQICA0CAgNAkKDgNAgIDQICA0CQoOA0CAgNAgIDQJCg4DQICA0CAgNAkKDgNAgIDQICA0CQoOA0CAgNAgIDQJCg4DQICA0CAgNAkKDgNAgIDQICA0CQoOA0CAgNAgIDQJCg4DQICA0CAgNAkKDgNAgIDQICA0CQoOA0CAgNAgIDQJCg4DQICA0CAgNAkKDgNAgIDQICA0CQoOA0CBwuT1fszcwaN8esycwyKNBQGgQEBoEhAYBoUFAaBAQGgSEBgGhQUBoEBAaBIQGAaFBQGgQEBoEhAYBoUFAaBAQGgSEBgGhQUBoEBAaBIQGAaFBQGgQEBoEhAYBoUFAaBAQGgSEBgGhQUBoEBAaBIQGAaFBQGgQEBoEhAYBoUFAaBAQGgSEBgGhQUBoEBAaBIQGAaFBQGgQEBoEhAYBoUFAaBAQGgSEBgGhQUBoEBAaBIQGAaFBQGgQEBoEhAYBoUFAaBAQGgSEBgGhQUBoEBAaBIQGAaFBQGgQEBoEhAYBoUFAaBAQGgSEBgGhQUBoEBAaBIQGAaFBQGgQEBoEhAYBoUFAaBAQGgSEBgGhQUBoEBAaBIQGAaFBQGgQEBoEhAYBoUFAaBAQGgSEBgGhQUBoEBAaBIQGgS8vcQo+NeEUGQAAAABJRU5ErkJggg==\" y=\"-21.758125\"/>\n   </g>\n   <g id=\"matplotlib.axis_1\">\n    <g id=\"xtick_1\">\n     <g id=\"line2d_1\">\n      <defs>\n       <path d=\"M 0 0 \nL 0 3.5 \n\" id=\"ma675029339\" style=\"stroke:#000000;stroke-width:0.8;\"/>\n      </defs>\n      <g>\n       <use style=\"stroke:#000000;stroke-width:0.8;\" x=\"107.345937\" xlink:href=\"#ma675029339\" y=\"239.758125\"/>\n      </g>\n     </g>\n     <g id=\"text_1\">\n      <!-- False -->\n      <defs>\n       <path d=\"M 9.8125 72.90625 \nL 51.703125 72.90625 \nL 51.703125 64.59375 \nL 19.671875 64.59375 \nL 19.671875 43.109375 \nL 48.578125 43.109375 \nL 48.578125 34.8125 \nL 19.671875 34.8125 \nL 19.671875 0 \nL 9.8125 0 \nz\n\" id=\"DejaVuSans-70\"/>\n       <path d=\"M 34.28125 27.484375 \nQ 23.390625 27.484375 19.1875 25 \nQ 14.984375 22.515625 14.984375 16.5 \nQ 14.984375 11.71875 18.140625 8.90625 \nQ 21.296875 6.109375 26.703125 6.109375 \nQ 34.1875 6.109375 38.703125 11.40625 \nQ 43.21875 16.703125 43.21875 25.484375 \nL 43.21875 27.484375 \nz\nM 52.203125 31.203125 \nL 52.203125 0 \nL 43.21875 0 \nL 43.21875 8.296875 \nQ 40.140625 3.328125 35.546875 0.953125 \nQ 30.953125 -1.421875 24.3125 -1.421875 \nQ 15.921875 -1.421875 10.953125 3.296875 \nQ 6 8.015625 6 15.921875 \nQ 6 25.140625 12.171875 29.828125 \nQ 18.359375 34.515625 30.609375 34.515625 \nL 43.21875 34.515625 \nL 43.21875 35.40625 \nQ 43.21875 41.609375 39.140625 45 \nQ 35.0625 48.390625 27.6875 48.390625 \nQ 23 48.390625 18.546875 47.265625 \nQ 14.109375 46.140625 10.015625 43.890625 \nL 10.015625 52.203125 \nQ 14.9375 54.109375 19.578125 55.046875 \nQ 24.21875 56 28.609375 56 \nQ 40.484375 56 46.34375 49.84375 \nQ 52.203125 43.703125 52.203125 31.203125 \nz\n\" id=\"DejaVuSans-97\"/>\n       <path d=\"M 9.421875 75.984375 \nL 18.40625 75.984375 \nL 18.40625 0 \nL 9.421875 0 \nz\n\" id=\"DejaVuSans-108\"/>\n       <path d=\"M 44.28125 53.078125 \nL 44.28125 44.578125 \nQ 40.484375 46.53125 36.375 47.5 \nQ 32.28125 48.484375 27.875 48.484375 \nQ 21.1875 48.484375 17.84375 46.4375 \nQ 14.5 44.390625 14.5 40.28125 \nQ 14.5 37.15625 16.890625 35.375 \nQ 19.28125 33.59375 26.515625 31.984375 \nL 29.59375 31.296875 \nQ 39.15625 29.25 43.1875 25.515625 \nQ 47.21875 21.78125 47.21875 15.09375 \nQ 47.21875 7.46875 41.1875 3.015625 \nQ 35.15625 -1.421875 24.609375 -1.421875 \nQ 20.21875 -1.421875 15.453125 -0.5625 \nQ 10.6875 0.296875 5.421875 2 \nL 5.421875 11.28125 \nQ 10.40625 8.6875 15.234375 7.390625 \nQ 20.0625 6.109375 24.8125 6.109375 \nQ 31.15625 6.109375 34.5625 8.28125 \nQ 37.984375 10.453125 37.984375 14.40625 \nQ 37.984375 18.0625 35.515625 20.015625 \nQ 33.0625 21.96875 24.703125 23.78125 \nL 21.578125 24.515625 \nQ 13.234375 26.265625 9.515625 29.90625 \nQ 5.8125 33.546875 5.8125 39.890625 \nQ 5.8125 47.609375 11.28125 51.796875 \nQ 16.75 56 26.8125 56 \nQ 31.78125 56 36.171875 55.265625 \nQ 40.578125 54.546875 44.28125 53.078125 \nz\n\" id=\"DejaVuSans-115\"/>\n       <path d=\"M 56.203125 29.59375 \nL 56.203125 25.203125 \nL 14.890625 25.203125 \nQ 15.484375 15.921875 20.484375 11.0625 \nQ 25.484375 6.203125 34.421875 6.203125 \nQ 39.59375 6.203125 44.453125 7.46875 \nQ 49.3125 8.734375 54.109375 11.28125 \nL 54.109375 2.78125 \nQ 49.265625 0.734375 44.1875 -0.34375 \nQ 39.109375 -1.421875 33.890625 -1.421875 \nQ 20.796875 -1.421875 13.15625 6.1875 \nQ 5.515625 13.8125 5.515625 26.8125 \nQ 5.515625 40.234375 12.765625 48.109375 \nQ 20.015625 56 32.328125 56 \nQ 43.359375 56 49.78125 48.890625 \nQ 56.203125 41.796875 56.203125 29.59375 \nz\nM 47.21875 32.234375 \nQ 47.125 39.59375 43.09375 43.984375 \nQ 39.0625 48.390625 32.421875 48.390625 \nQ 24.90625 48.390625 20.390625 44.140625 \nQ 15.875 39.890625 15.1875 32.171875 \nz\n\" id=\"DejaVuSans-101\"/>\n      </defs>\n      <g transform=\"translate(94.792031 254.356562)scale(0.1 -0.1)\">\n       <use xlink:href=\"#DejaVuSans-70\"/>\n       <use x=\"48.394531\" xlink:href=\"#DejaVuSans-97\"/>\n       <use x=\"109.673828\" xlink:href=\"#DejaVuSans-108\"/>\n       <use x=\"137.457031\" xlink:href=\"#DejaVuSans-115\"/>\n       <use x=\"189.556641\" xlink:href=\"#DejaVuSans-101\"/>\n      </g>\n     </g>\n    </g>\n    <g id=\"xtick_2\">\n     <g id=\"line2d_2\">\n      <g>\n       <use style=\"stroke:#000000;stroke-width:0.8;\" x=\"216.065937\" xlink:href=\"#ma675029339\" y=\"239.758125\"/>\n      </g>\n     </g>\n     <g id=\"text_2\">\n      <!-- True -->\n      <defs>\n       <path d=\"M -0.296875 72.90625 \nL 61.375 72.90625 \nL 61.375 64.59375 \nL 35.5 64.59375 \nL 35.5 0 \nL 25.59375 0 \nL 25.59375 64.59375 \nL -0.296875 64.59375 \nz\n\" id=\"DejaVuSans-84\"/>\n       <path d=\"M 41.109375 46.296875 \nQ 39.59375 47.171875 37.8125 47.578125 \nQ 36.03125 48 33.890625 48 \nQ 26.265625 48 22.1875 43.046875 \nQ 18.109375 38.09375 18.109375 28.8125 \nL 18.109375 0 \nL 9.078125 0 \nL 9.078125 54.6875 \nL 18.109375 54.6875 \nL 18.109375 46.1875 \nQ 20.953125 51.171875 25.484375 53.578125 \nQ 30.03125 56 36.53125 56 \nQ 37.453125 56 38.578125 55.875 \nQ 39.703125 55.765625 41.0625 55.515625 \nz\n\" id=\"DejaVuSans-114\"/>\n       <path d=\"M 8.5 21.578125 \nL 8.5 54.6875 \nL 17.484375 54.6875 \nL 17.484375 21.921875 \nQ 17.484375 14.15625 20.5 10.265625 \nQ 23.53125 6.390625 29.59375 6.390625 \nQ 36.859375 6.390625 41.078125 11.03125 \nQ 45.3125 15.671875 45.3125 23.6875 \nL 45.3125 54.6875 \nL 54.296875 54.6875 \nL 54.296875 0 \nL 45.3125 0 \nL 45.3125 8.40625 \nQ 42.046875 3.421875 37.71875 1 \nQ 33.40625 -1.421875 27.6875 -1.421875 \nQ 18.265625 -1.421875 13.375 4.4375 \nQ 8.5 10.296875 8.5 21.578125 \nz\nM 31.109375 56 \nz\n\" id=\"DejaVuSans-117\"/>\n      </defs>\n      <g transform=\"translate(205.44875 254.356562)scale(0.1 -0.1)\">\n       <use xlink:href=\"#DejaVuSans-84\"/>\n       <use x=\"46.333984\" xlink:href=\"#DejaVuSans-114\"/>\n       <use x=\"87.447266\" xlink:href=\"#DejaVuSans-117\"/>\n       <use x=\"150.826172\" xlink:href=\"#DejaVuSans-101\"/>\n      </g>\n     </g>\n    </g>\n    <g id=\"text_3\">\n     <!-- Predicted -->\n     <defs>\n      <path d=\"M 19.671875 64.796875 \nL 19.671875 37.40625 \nL 32.078125 37.40625 \nQ 38.96875 37.40625 42.71875 40.96875 \nQ 46.484375 44.53125 46.484375 51.125 \nQ 46.484375 57.671875 42.71875 61.234375 \nQ 38.96875 64.796875 32.078125 64.796875 \nz\nM 9.8125 72.90625 \nL 32.078125 72.90625 \nQ 44.34375 72.90625 50.609375 67.359375 \nQ 56.890625 61.8125 56.890625 51.125 \nQ 56.890625 40.328125 50.609375 34.8125 \nQ 44.34375 29.296875 32.078125 29.296875 \nL 19.671875 29.296875 \nL 19.671875 0 \nL 9.8125 0 \nz\n\" id=\"DejaVuSans-80\"/>\n      <path d=\"M 45.40625 46.390625 \nL 45.40625 75.984375 \nL 54.390625 75.984375 \nL 54.390625 0 \nL 45.40625 0 \nL 45.40625 8.203125 \nQ 42.578125 3.328125 38.25 0.953125 \nQ 33.9375 -1.421875 27.875 -1.421875 \nQ 17.96875 -1.421875 11.734375 6.484375 \nQ 5.515625 14.40625 5.515625 27.296875 \nQ 5.515625 40.1875 11.734375 48.09375 \nQ 17.96875 56 27.875 56 \nQ 33.9375 56 38.25 53.625 \nQ 42.578125 51.265625 45.40625 46.390625 \nz\nM 14.796875 27.296875 \nQ 14.796875 17.390625 18.875 11.75 \nQ 22.953125 6.109375 30.078125 6.109375 \nQ 37.203125 6.109375 41.296875 11.75 \nQ 45.40625 17.390625 45.40625 27.296875 \nQ 45.40625 37.203125 41.296875 42.84375 \nQ 37.203125 48.484375 30.078125 48.484375 \nQ 22.953125 48.484375 18.875 42.84375 \nQ 14.796875 37.203125 14.796875 27.296875 \nz\n\" id=\"DejaVuSans-100\"/>\n      <path d=\"M 9.421875 54.6875 \nL 18.40625 54.6875 \nL 18.40625 0 \nL 9.421875 0 \nz\nM 9.421875 75.984375 \nL 18.40625 75.984375 \nL 18.40625 64.59375 \nL 9.421875 64.59375 \nz\n\" id=\"DejaVuSans-105\"/>\n      <path d=\"M 48.78125 52.59375 \nL 48.78125 44.1875 \nQ 44.96875 46.296875 41.140625 47.34375 \nQ 37.3125 48.390625 33.40625 48.390625 \nQ 24.65625 48.390625 19.8125 42.84375 \nQ 14.984375 37.3125 14.984375 27.296875 \nQ 14.984375 17.28125 19.8125 11.734375 \nQ 24.65625 6.203125 33.40625 6.203125 \nQ 37.3125 6.203125 41.140625 7.25 \nQ 44.96875 8.296875 48.78125 10.40625 \nL 48.78125 2.09375 \nQ 45.015625 0.34375 40.984375 -0.53125 \nQ 36.96875 -1.421875 32.421875 -1.421875 \nQ 20.0625 -1.421875 12.78125 6.34375 \nQ 5.515625 14.109375 5.515625 27.296875 \nQ 5.515625 40.671875 12.859375 48.328125 \nQ 20.21875 56 33.015625 56 \nQ 37.15625 56 41.109375 55.140625 \nQ 45.0625 54.296875 48.78125 52.59375 \nz\n\" id=\"DejaVuSans-99\"/>\n      <path d=\"M 18.3125 70.21875 \nL 18.3125 54.6875 \nL 36.8125 54.6875 \nL 36.8125 47.703125 \nL 18.3125 47.703125 \nL 18.3125 18.015625 \nQ 18.3125 11.328125 20.140625 9.421875 \nQ 21.96875 7.515625 27.59375 7.515625 \nL 36.8125 7.515625 \nL 36.8125 0 \nL 27.59375 0 \nQ 17.1875 0 13.234375 3.875 \nQ 9.28125 7.765625 9.28125 18.015625 \nL 9.28125 47.703125 \nL 2.6875 47.703125 \nL 2.6875 54.6875 \nL 9.28125 54.6875 \nL 9.28125 70.21875 \nz\n\" id=\"DejaVuSans-116\"/>\n     </defs>\n     <g transform=\"translate(138.235625 268.034687)scale(0.1 -0.1)\">\n      <use xlink:href=\"#DejaVuSans-80\"/>\n      <use x=\"58.552734\" xlink:href=\"#DejaVuSans-114\"/>\n      <use x=\"97.416016\" xlink:href=\"#DejaVuSans-101\"/>\n      <use x=\"158.939453\" xlink:href=\"#DejaVuSans-100\"/>\n      <use x=\"222.416016\" xlink:href=\"#DejaVuSans-105\"/>\n      <use x=\"250.199219\" xlink:href=\"#DejaVuSans-99\"/>\n      <use x=\"305.179688\" xlink:href=\"#DejaVuSans-116\"/>\n      <use x=\"344.388672\" xlink:href=\"#DejaVuSans-101\"/>\n      <use x=\"405.912109\" xlink:href=\"#DejaVuSans-100\"/>\n     </g>\n    </g>\n   </g>\n   <g id=\"matplotlib.axis_2\">\n    <g id=\"ytick_1\">\n     <g id=\"line2d_3\">\n      <defs>\n       <path d=\"M 0 0 \nL -3.5 0 \n\" id=\"m292d487984\" style=\"stroke:#000000;stroke-width:0.8;\"/>\n      </defs>\n      <g>\n       <use style=\"stroke:#000000;stroke-width:0.8;\" x=\"52.985937\" xlink:href=\"#m292d487984\" y=\"22.318125\"/>\n      </g>\n     </g>\n    </g>\n    <g id=\"ytick_2\">\n     <g id=\"line2d_4\">\n      <g>\n       <use style=\"stroke:#000000;stroke-width:0.8;\" x=\"52.985937\" xlink:href=\"#m292d487984\" y=\"76.678125\"/>\n      </g>\n     </g>\n     <g id=\"text_4\">\n      <!-- False -->\n      <g transform=\"translate(20.878125 80.477344)scale(0.1 -0.1)\">\n       <use xlink:href=\"#DejaVuSans-70\"/>\n       <use x=\"48.394531\" xlink:href=\"#DejaVuSans-97\"/>\n       <use x=\"109.673828\" xlink:href=\"#DejaVuSans-108\"/>\n       <use x=\"137.457031\" xlink:href=\"#DejaVuSans-115\"/>\n       <use x=\"189.556641\" xlink:href=\"#DejaVuSans-101\"/>\n      </g>\n     </g>\n    </g>\n    <g id=\"ytick_3\">\n     <g id=\"line2d_5\">\n      <g>\n       <use style=\"stroke:#000000;stroke-width:0.8;\" x=\"52.985937\" xlink:href=\"#m292d487984\" y=\"185.398125\"/>\n      </g>\n     </g>\n     <g id=\"text_5\">\n      <!-- True -->\n      <g transform=\"translate(24.751562 189.197344)scale(0.1 -0.1)\">\n       <use xlink:href=\"#DejaVuSans-84\"/>\n       <use x=\"46.333984\" xlink:href=\"#DejaVuSans-114\"/>\n       <use x=\"87.447266\" xlink:href=\"#DejaVuSans-117\"/>\n       <use x=\"150.826172\" xlink:href=\"#DejaVuSans-101\"/>\n      </g>\n     </g>\n    </g>\n    <g id=\"ytick_4\">\n     <g id=\"line2d_6\">\n      <g>\n       <use style=\"stroke:#000000;stroke-width:0.8;\" x=\"52.985937\" xlink:href=\"#m292d487984\" y=\"239.758125\"/>\n      </g>\n     </g>\n    </g>\n    <g id=\"text_6\">\n     <!-- Actual -->\n     <defs>\n      <path d=\"M 34.1875 63.1875 \nL 20.796875 26.90625 \nL 47.609375 26.90625 \nz\nM 28.609375 72.90625 \nL 39.796875 72.90625 \nL 67.578125 0 \nL 57.328125 0 \nL 50.6875 18.703125 \nL 17.828125 18.703125 \nL 11.1875 0 \nL 0.78125 0 \nz\n\" id=\"DejaVuSans-65\"/>\n     </defs>\n     <g transform=\"translate(14.798437 146.702187)rotate(-90)scale(0.1 -0.1)\">\n      <use xlink:href=\"#DejaVuSans-65\"/>\n      <use x=\"66.658203\" xlink:href=\"#DejaVuSans-99\"/>\n      <use x=\"121.638672\" xlink:href=\"#DejaVuSans-116\"/>\n      <use x=\"160.847656\" xlink:href=\"#DejaVuSans-117\"/>\n      <use x=\"224.226562\" xlink:href=\"#DejaVuSans-97\"/>\n      <use x=\"285.505859\" xlink:href=\"#DejaVuSans-108\"/>\n     </g>\n    </g>\n   </g>\n   <g id=\"patch_3\">\n    <path d=\"M 52.985937 239.758125 \nL 52.985937 22.318125 \n\" style=\"fill:none;stroke:#000000;stroke-linecap:square;stroke-linejoin:miter;stroke-width:0.8;\"/>\n   </g>\n   <g id=\"patch_4\">\n    <path d=\"M 270.425937 239.758125 \nL 270.425937 22.318125 \n\" style=\"fill:none;stroke:#000000;stroke-linecap:square;stroke-linejoin:miter;stroke-width:0.8;\"/>\n   </g>\n   <g id=\"patch_5\">\n    <path d=\"M 52.985937 239.758125 \nL 270.425937 239.758125 \n\" style=\"fill:none;stroke:#000000;stroke-linecap:square;stroke-linejoin:miter;stroke-width:0.8;\"/>\n   </g>\n   <g id=\"patch_6\">\n    <path d=\"M 52.985937 22.318125 \nL 270.425937 22.318125 \n\" style=\"fill:none;stroke:#000000;stroke-linecap:square;stroke-linejoin:miter;stroke-width:0.8;\"/>\n   </g>\n   <g id=\"text_7\">\n    <!-- 976 -->\n    <defs>\n     <path d=\"M 10.984375 1.515625 \nL 10.984375 10.5 \nQ 14.703125 8.734375 18.5 7.8125 \nQ 22.3125 6.890625 25.984375 6.890625 \nQ 35.75 6.890625 40.890625 13.453125 \nQ 46.046875 20.015625 46.78125 33.40625 \nQ 43.953125 29.203125 39.59375 26.953125 \nQ 35.25 24.703125 29.984375 24.703125 \nQ 19.046875 24.703125 12.671875 31.3125 \nQ 6.296875 37.9375 6.296875 49.421875 \nQ 6.296875 60.640625 12.9375 67.421875 \nQ 19.578125 74.21875 30.609375 74.21875 \nQ 43.265625 74.21875 49.921875 64.515625 \nQ 56.59375 54.828125 56.59375 36.375 \nQ 56.59375 19.140625 48.40625 8.859375 \nQ 40.234375 -1.421875 26.421875 -1.421875 \nQ 22.703125 -1.421875 18.890625 -0.6875 \nQ 15.09375 0.046875 10.984375 1.515625 \nz\nM 30.609375 32.421875 \nQ 37.25 32.421875 41.125 36.953125 \nQ 45.015625 41.5 45.015625 49.421875 \nQ 45.015625 57.28125 41.125 61.84375 \nQ 37.25 66.40625 30.609375 66.40625 \nQ 23.96875 66.40625 20.09375 61.84375 \nQ 16.21875 57.28125 16.21875 49.421875 \nQ 16.21875 41.5 20.09375 36.953125 \nQ 23.96875 32.421875 30.609375 32.421875 \nz\n\" id=\"DejaVuSans-57\"/>\n     <path d=\"M 8.203125 72.90625 \nL 55.078125 72.90625 \nL 55.078125 68.703125 \nL 28.609375 0 \nL 18.3125 0 \nL 43.21875 64.59375 \nL 8.203125 64.59375 \nz\n\" id=\"DejaVuSans-55\"/>\n     <path d=\"M 33.015625 40.375 \nQ 26.375 40.375 22.484375 35.828125 \nQ 18.609375 31.296875 18.609375 23.390625 \nQ 18.609375 15.53125 22.484375 10.953125 \nQ 26.375 6.390625 33.015625 6.390625 \nQ 39.65625 6.390625 43.53125 10.953125 \nQ 47.40625 15.53125 47.40625 23.390625 \nQ 47.40625 31.296875 43.53125 35.828125 \nQ 39.65625 40.375 33.015625 40.375 \nz\nM 52.59375 71.296875 \nL 52.59375 62.3125 \nQ 48.875 64.0625 45.09375 64.984375 \nQ 41.3125 65.921875 37.59375 65.921875 \nQ 27.828125 65.921875 22.671875 59.328125 \nQ 17.53125 52.734375 16.796875 39.40625 \nQ 19.671875 43.65625 24.015625 45.921875 \nQ 28.375 48.1875 33.59375 48.1875 \nQ 44.578125 48.1875 50.953125 41.515625 \nQ 57.328125 34.859375 57.328125 23.390625 \nQ 57.328125 12.15625 50.6875 5.359375 \nQ 44.046875 -1.421875 33.015625 -1.421875 \nQ 20.359375 -1.421875 13.671875 8.265625 \nQ 6.984375 17.96875 6.984375 36.375 \nQ 6.984375 53.65625 15.1875 63.9375 \nQ 23.390625 74.21875 37.203125 74.21875 \nQ 40.921875 74.21875 44.703125 73.484375 \nQ 48.484375 72.75 52.59375 71.296875 \nz\n\" id=\"DejaVuSans-54\"/>\n    </defs>\n    <g style=\"fill:#ffffff;\" transform=\"translate(97.802187 76.678125)scale(0.1 -0.1)\">\n     <use xlink:href=\"#DejaVuSans-57\"/>\n     <use x=\"63.623047\" xlink:href=\"#DejaVuSans-55\"/>\n     <use x=\"127.246094\" xlink:href=\"#DejaVuSans-54\"/>\n    </g>\n   </g>\n   <g id=\"text_8\">\n    <!-- 196 -->\n    <defs>\n     <path d=\"M 12.40625 8.296875 \nL 28.515625 8.296875 \nL 28.515625 63.921875 \nL 10.984375 60.40625 \nL 10.984375 69.390625 \nL 28.421875 72.90625 \nL 38.28125 72.90625 \nL 38.28125 8.296875 \nL 54.390625 8.296875 \nL 54.390625 0 \nL 12.40625 0 \nz\n\" id=\"DejaVuSans-49\"/>\n    </defs>\n    <g transform=\"translate(206.522188 76.678125)scale(0.1 -0.1)\">\n     <use xlink:href=\"#DejaVuSans-49\"/>\n     <use x=\"63.623047\" xlink:href=\"#DejaVuSans-57\"/>\n     <use x=\"127.246094\" xlink:href=\"#DejaVuSans-54\"/>\n    </g>\n   </g>\n   <g id=\"text_9\">\n    <!-- 176 -->\n    <g transform=\"translate(97.802187 185.398125)scale(0.1 -0.1)\">\n     <use xlink:href=\"#DejaVuSans-49\"/>\n     <use x=\"63.623047\" xlink:href=\"#DejaVuSans-55\"/>\n     <use x=\"127.246094\" xlink:href=\"#DejaVuSans-54\"/>\n    </g>\n   </g>\n   <g id=\"text_10\">\n    <!-- 1440 -->\n    <defs>\n     <path d=\"M 37.796875 64.3125 \nL 12.890625 25.390625 \nL 37.796875 25.390625 \nz\nM 35.203125 72.90625 \nL 47.609375 72.90625 \nL 47.609375 25.390625 \nL 58.015625 25.390625 \nL 58.015625 17.1875 \nL 47.609375 17.1875 \nL 47.609375 0 \nL 37.796875 0 \nL 37.796875 17.1875 \nL 4.890625 17.1875 \nL 4.890625 26.703125 \nz\n\" id=\"DejaVuSans-52\"/>\n     <path d=\"M 31.78125 66.40625 \nQ 24.171875 66.40625 20.328125 58.90625 \nQ 16.5 51.421875 16.5 36.375 \nQ 16.5 21.390625 20.328125 13.890625 \nQ 24.171875 6.390625 31.78125 6.390625 \nQ 39.453125 6.390625 43.28125 13.890625 \nQ 47.125 21.390625 47.125 36.375 \nQ 47.125 51.421875 43.28125 58.90625 \nQ 39.453125 66.40625 31.78125 66.40625 \nz\nM 31.78125 74.21875 \nQ 44.046875 74.21875 50.515625 64.515625 \nQ 56.984375 54.828125 56.984375 36.375 \nQ 56.984375 17.96875 50.515625 8.265625 \nQ 44.046875 -1.421875 31.78125 -1.421875 \nQ 19.53125 -1.421875 13.0625 8.265625 \nQ 6.59375 17.96875 6.59375 36.375 \nQ 6.59375 54.828125 13.0625 64.515625 \nQ 19.53125 74.21875 31.78125 74.21875 \nz\n\" id=\"DejaVuSans-48\"/>\n    </defs>\n    <g style=\"fill:#ffffff;\" transform=\"translate(203.340937 185.398125)scale(0.1 -0.1)\">\n     <use xlink:href=\"#DejaVuSans-49\"/>\n     <use x=\"63.623047\" xlink:href=\"#DejaVuSans-52\"/>\n     <use x=\"127.246094\" xlink:href=\"#DejaVuSans-52\"/>\n     <use x=\"190.869141\" xlink:href=\"#DejaVuSans-48\"/>\n    </g>\n   </g>\n   <g id=\"text_11\">\n    <!-- Confusion Matrix -->\n    <defs>\n     <path d=\"M 64.40625 67.28125 \nL 64.40625 56.890625 \nQ 59.421875 61.53125 53.78125 63.8125 \nQ 48.140625 66.109375 41.796875 66.109375 \nQ 29.296875 66.109375 22.65625 58.46875 \nQ 16.015625 50.828125 16.015625 36.375 \nQ 16.015625 21.96875 22.65625 14.328125 \nQ 29.296875 6.6875 41.796875 6.6875 \nQ 48.140625 6.6875 53.78125 8.984375 \nQ 59.421875 11.28125 64.40625 15.921875 \nL 64.40625 5.609375 \nQ 59.234375 2.09375 53.4375 0.328125 \nQ 47.65625 -1.421875 41.21875 -1.421875 \nQ 24.65625 -1.421875 15.125 8.703125 \nQ 5.609375 18.84375 5.609375 36.375 \nQ 5.609375 53.953125 15.125 64.078125 \nQ 24.65625 74.21875 41.21875 74.21875 \nQ 47.75 74.21875 53.53125 72.484375 \nQ 59.328125 70.75 64.40625 67.28125 \nz\n\" id=\"DejaVuSans-67\"/>\n     <path d=\"M 30.609375 48.390625 \nQ 23.390625 48.390625 19.1875 42.75 \nQ 14.984375 37.109375 14.984375 27.296875 \nQ 14.984375 17.484375 19.15625 11.84375 \nQ 23.34375 6.203125 30.609375 6.203125 \nQ 37.796875 6.203125 41.984375 11.859375 \nQ 46.1875 17.53125 46.1875 27.296875 \nQ 46.1875 37.015625 41.984375 42.703125 \nQ 37.796875 48.390625 30.609375 48.390625 \nz\nM 30.609375 56 \nQ 42.328125 56 49.015625 48.375 \nQ 55.71875 40.765625 55.71875 27.296875 \nQ 55.71875 13.875 49.015625 6.21875 \nQ 42.328125 -1.421875 30.609375 -1.421875 \nQ 18.84375 -1.421875 12.171875 6.21875 \nQ 5.515625 13.875 5.515625 27.296875 \nQ 5.515625 40.765625 12.171875 48.375 \nQ 18.84375 56 30.609375 56 \nz\n\" id=\"DejaVuSans-111\"/>\n     <path d=\"M 54.890625 33.015625 \nL 54.890625 0 \nL 45.90625 0 \nL 45.90625 32.71875 \nQ 45.90625 40.484375 42.875 44.328125 \nQ 39.84375 48.1875 33.796875 48.1875 \nQ 26.515625 48.1875 22.3125 43.546875 \nQ 18.109375 38.921875 18.109375 30.90625 \nL 18.109375 0 \nL 9.078125 0 \nL 9.078125 54.6875 \nL 18.109375 54.6875 \nL 18.109375 46.1875 \nQ 21.34375 51.125 25.703125 53.5625 \nQ 30.078125 56 35.796875 56 \nQ 45.21875 56 50.046875 50.171875 \nQ 54.890625 44.34375 54.890625 33.015625 \nz\n\" id=\"DejaVuSans-110\"/>\n     <path d=\"M 37.109375 75.984375 \nL 37.109375 68.5 \nL 28.515625 68.5 \nQ 23.6875 68.5 21.796875 66.546875 \nQ 19.921875 64.59375 19.921875 59.515625 \nL 19.921875 54.6875 \nL 34.71875 54.6875 \nL 34.71875 47.703125 \nL 19.921875 47.703125 \nL 19.921875 0 \nL 10.890625 0 \nL 10.890625 47.703125 \nL 2.296875 47.703125 \nL 2.296875 54.6875 \nL 10.890625 54.6875 \nL 10.890625 58.5 \nQ 10.890625 67.625 15.140625 71.796875 \nQ 19.390625 75.984375 28.609375 75.984375 \nz\n\" id=\"DejaVuSans-102\"/>\n     <path id=\"DejaVuSans-32\"/>\n     <path d=\"M 9.8125 72.90625 \nL 24.515625 72.90625 \nL 43.109375 23.296875 \nL 61.8125 72.90625 \nL 76.515625 72.90625 \nL 76.515625 0 \nL 66.890625 0 \nL 66.890625 64.015625 \nL 48.09375 14.015625 \nL 38.1875 14.015625 \nL 19.390625 64.015625 \nL 19.390625 0 \nL 9.8125 0 \nz\n\" id=\"DejaVuSans-77\"/>\n     <path d=\"M 54.890625 54.6875 \nL 35.109375 28.078125 \nL 55.90625 0 \nL 45.3125 0 \nL 29.390625 21.484375 \nL 13.484375 0 \nL 2.875 0 \nL 24.125 28.609375 \nL 4.6875 54.6875 \nL 15.28125 54.6875 \nL 29.78125 35.203125 \nL 44.28125 54.6875 \nz\n\" id=\"DejaVuSans-120\"/>\n    </defs>\n    <g transform=\"translate(111.064063 16.318125)scale(0.12 -0.12)\">\n     <use xlink:href=\"#DejaVuSans-67\"/>\n     <use x=\"69.824219\" xlink:href=\"#DejaVuSans-111\"/>\n     <use x=\"131.005859\" xlink:href=\"#DejaVuSans-110\"/>\n     <use x=\"194.384766\" xlink:href=\"#DejaVuSans-102\"/>\n     <use x=\"229.589844\" xlink:href=\"#DejaVuSans-117\"/>\n     <use x=\"292.96875\" xlink:href=\"#DejaVuSans-115\"/>\n     <use x=\"345.068359\" xlink:href=\"#DejaVuSans-105\"/>\n     <use x=\"372.851562\" xlink:href=\"#DejaVuSans-111\"/>\n     <use x=\"434.033203\" xlink:href=\"#DejaVuSans-110\"/>\n     <use x=\"497.412109\" xlink:href=\"#DejaVuSans-32\"/>\n     <use x=\"529.199219\" xlink:href=\"#DejaVuSans-77\"/>\n     <use x=\"615.478516\" xlink:href=\"#DejaVuSans-97\"/>\n     <use x=\"676.757812\" xlink:href=\"#DejaVuSans-116\"/>\n     <use x=\"715.966797\" xlink:href=\"#DejaVuSans-114\"/>\n     <use x=\"757.080078\" xlink:href=\"#DejaVuSans-105\"/>\n     <use x=\"784.863281\" xlink:href=\"#DejaVuSans-120\"/>\n    </g>\n   </g>\n  </g>\n  <g id=\"axes_2\">\n   <g id=\"patch_7\">\n    <path clip-path=\"url(#p1199604b31)\" d=\"M 287.165938 239.758125 \nL 287.165938 238.90875 \nL 287.165938 23.1675 \nL 287.165938 22.318125 \nL 298.037937 22.318125 \nL 298.037937 23.1675 \nL 298.037937 238.90875 \nL 298.037937 239.758125 \nz\n\" style=\"fill:#ffffff;stroke:#ffffff;stroke-linejoin:miter;stroke-width:0.01;\"/>\n   </g>\n   <image height=\"217\" id=\"imageaea9af6619\" transform=\"scale(1 -1)translate(0 -217)\" width=\"11\" x=\"287\" xlink:href=\"data:image/png;base64,\niVBORw0KGgoAAAANSUhEUgAAAAsAAADZCAYAAAD2WsoCAAAABHNCSVQICAgIfAhkiAAAARxJREFUaIHtmDEOAjEQAwPK/59LgciGFrpMMciL7mpr5dheJ7rb47n3OPzmHsfYMc/nYjChAbBjAizkXAB9ByxM6UIchJMBGGYDcC5NupEhHcwG4ezR0HqD2d2wvjr2Rop0V/h/QiNEOu1VkHJAZDc8oHbDag4udMAMzpWR5zof7LaoxblARhlnszfA5OVVgZc67XGCqkBsUe3uXiTPXj97DiKdF+gC08FzrEnDywa0O6LMPZ3ZPSi2qLewEdJ5/dwxG2i7PZ3NvxCo+SN2MCQb7JXLaESoAQ9o0QiZbNoNaHhB8uzuGKSQ7WZ/AsVsnL8ZUzgzcIbdIdn4f7uvbHyAod2IRsPJ9bImt1RjRdBAk8nCXnZ/gTvabU1+A25V4hFkL86SAAAAAElFTkSuQmCC\" y=\"-22\"/>\n   <g id=\"matplotlib.axis_3\"/>\n   <g id=\"matplotlib.axis_4\">\n    <g id=\"ytick_5\">\n     <g id=\"line2d_7\">\n      <defs>\n       <path d=\"M 0 0 \nL 3.5 0 \n\" id=\"me562007f0c\" style=\"stroke:#000000;stroke-width:0.8;\"/>\n      </defs>\n      <g>\n       <use style=\"stroke:#000000;stroke-width:0.8;\" x=\"298.037937\" xlink:href=\"#me562007f0c\" y=\"235.629517\"/>\n      </g>\n     </g>\n     <g id=\"text_12\">\n      <!-- 200 -->\n      <defs>\n       <path d=\"M 19.1875 8.296875 \nL 53.609375 8.296875 \nL 53.609375 0 \nL 7.328125 0 \nL 7.328125 8.296875 \nQ 12.9375 14.109375 22.625 23.890625 \nQ 32.328125 33.6875 34.8125 36.53125 \nQ 39.546875 41.84375 41.421875 45.53125 \nQ 43.3125 49.21875 43.3125 52.78125 \nQ 43.3125 58.59375 39.234375 62.25 \nQ 35.15625 65.921875 28.609375 65.921875 \nQ 23.96875 65.921875 18.8125 64.3125 \nQ 13.671875 62.703125 7.8125 59.421875 \nL 7.8125 69.390625 \nQ 13.765625 71.78125 18.9375 73 \nQ 24.125 74.21875 28.421875 74.21875 \nQ 39.75 74.21875 46.484375 68.546875 \nQ 53.21875 62.890625 53.21875 53.421875 \nQ 53.21875 48.921875 51.53125 44.890625 \nQ 49.859375 40.875 45.40625 35.40625 \nQ 44.1875 33.984375 37.640625 27.21875 \nQ 31.109375 20.453125 19.1875 8.296875 \nz\n\" id=\"DejaVuSans-50\"/>\n      </defs>\n      <g transform=\"translate(305.037937 239.428736)scale(0.1 -0.1)\">\n       <use xlink:href=\"#DejaVuSans-50\"/>\n       <use x=\"63.623047\" xlink:href=\"#DejaVuSans-48\"/>\n       <use x=\"127.246094\" xlink:href=\"#DejaVuSans-48\"/>\n      </g>\n     </g>\n    </g>\n    <g id=\"ytick_6\">\n     <g id=\"line2d_8\">\n      <g>\n       <use style=\"stroke:#000000;stroke-width:0.8;\" x=\"298.037937\" xlink:href=\"#me562007f0c\" y=\"201.224454\"/>\n      </g>\n     </g>\n     <g id=\"text_13\">\n      <!-- 400 -->\n      <g transform=\"translate(305.037937 205.023673)scale(0.1 -0.1)\">\n       <use xlink:href=\"#DejaVuSans-52\"/>\n       <use x=\"63.623047\" xlink:href=\"#DejaVuSans-48\"/>\n       <use x=\"127.246094\" xlink:href=\"#DejaVuSans-48\"/>\n      </g>\n     </g>\n    </g>\n    <g id=\"ytick_7\">\n     <g id=\"line2d_9\">\n      <g>\n       <use style=\"stroke:#000000;stroke-width:0.8;\" x=\"298.037937\" xlink:href=\"#me562007f0c\" y=\"166.819391\"/>\n      </g>\n     </g>\n     <g id=\"text_14\">\n      <!-- 600 -->\n      <g transform=\"translate(305.037937 170.61861)scale(0.1 -0.1)\">\n       <use xlink:href=\"#DejaVuSans-54\"/>\n       <use x=\"63.623047\" xlink:href=\"#DejaVuSans-48\"/>\n       <use x=\"127.246094\" xlink:href=\"#DejaVuSans-48\"/>\n      </g>\n     </g>\n    </g>\n    <g id=\"ytick_8\">\n     <g id=\"line2d_10\">\n      <g>\n       <use style=\"stroke:#000000;stroke-width:0.8;\" x=\"298.037937\" xlink:href=\"#me562007f0c\" y=\"132.414328\"/>\n      </g>\n     </g>\n     <g id=\"text_15\">\n      <!-- 800 -->\n      <defs>\n       <path d=\"M 31.78125 34.625 \nQ 24.75 34.625 20.71875 30.859375 \nQ 16.703125 27.09375 16.703125 20.515625 \nQ 16.703125 13.921875 20.71875 10.15625 \nQ 24.75 6.390625 31.78125 6.390625 \nQ 38.8125 6.390625 42.859375 10.171875 \nQ 46.921875 13.96875 46.921875 20.515625 \nQ 46.921875 27.09375 42.890625 30.859375 \nQ 38.875 34.625 31.78125 34.625 \nz\nM 21.921875 38.8125 \nQ 15.578125 40.375 12.03125 44.71875 \nQ 8.5 49.078125 8.5 55.328125 \nQ 8.5 64.0625 14.71875 69.140625 \nQ 20.953125 74.21875 31.78125 74.21875 \nQ 42.671875 74.21875 48.875 69.140625 \nQ 55.078125 64.0625 55.078125 55.328125 \nQ 55.078125 49.078125 51.53125 44.71875 \nQ 48 40.375 41.703125 38.8125 \nQ 48.828125 37.15625 52.796875 32.3125 \nQ 56.78125 27.484375 56.78125 20.515625 \nQ 56.78125 9.90625 50.3125 4.234375 \nQ 43.84375 -1.421875 31.78125 -1.421875 \nQ 19.734375 -1.421875 13.25 4.234375 \nQ 6.78125 9.90625 6.78125 20.515625 \nQ 6.78125 27.484375 10.78125 32.3125 \nQ 14.796875 37.15625 21.921875 38.8125 \nz\nM 18.3125 54.390625 \nQ 18.3125 48.734375 21.84375 45.5625 \nQ 25.390625 42.390625 31.78125 42.390625 \nQ 38.140625 42.390625 41.71875 45.5625 \nQ 45.3125 48.734375 45.3125 54.390625 \nQ 45.3125 60.0625 41.71875 63.234375 \nQ 38.140625 66.40625 31.78125 66.40625 \nQ 25.390625 66.40625 21.84375 63.234375 \nQ 18.3125 60.0625 18.3125 54.390625 \nz\n\" id=\"DejaVuSans-56\"/>\n      </defs>\n      <g transform=\"translate(305.037937 136.213546)scale(0.1 -0.1)\">\n       <use xlink:href=\"#DejaVuSans-56\"/>\n       <use x=\"63.623047\" xlink:href=\"#DejaVuSans-48\"/>\n       <use x=\"127.246094\" xlink:href=\"#DejaVuSans-48\"/>\n      </g>\n     </g>\n    </g>\n    <g id=\"ytick_9\">\n     <g id=\"line2d_11\">\n      <g>\n       <use style=\"stroke:#000000;stroke-width:0.8;\" x=\"298.037937\" xlink:href=\"#me562007f0c\" y=\"98.009264\"/>\n      </g>\n     </g>\n     <g id=\"text_16\">\n      <!-- 1000 -->\n      <g transform=\"translate(305.037937 101.808483)scale(0.1 -0.1)\">\n       <use xlink:href=\"#DejaVuSans-49\"/>\n       <use x=\"63.623047\" xlink:href=\"#DejaVuSans-48\"/>\n       <use x=\"127.246094\" xlink:href=\"#DejaVuSans-48\"/>\n       <use x=\"190.869141\" xlink:href=\"#DejaVuSans-48\"/>\n      </g>\n     </g>\n    </g>\n    <g id=\"ytick_10\">\n     <g id=\"line2d_12\">\n      <g>\n       <use style=\"stroke:#000000;stroke-width:0.8;\" x=\"298.037937\" xlink:href=\"#me562007f0c\" y=\"63.604201\"/>\n      </g>\n     </g>\n     <g id=\"text_17\">\n      <!-- 1200 -->\n      <g transform=\"translate(305.037937 67.40342)scale(0.1 -0.1)\">\n       <use xlink:href=\"#DejaVuSans-49\"/>\n       <use x=\"63.623047\" xlink:href=\"#DejaVuSans-50\"/>\n       <use x=\"127.246094\" xlink:href=\"#DejaVuSans-48\"/>\n       <use x=\"190.869141\" xlink:href=\"#DejaVuSans-48\"/>\n      </g>\n     </g>\n    </g>\n    <g id=\"ytick_11\">\n     <g id=\"line2d_13\">\n      <g>\n       <use style=\"stroke:#000000;stroke-width:0.8;\" x=\"298.037937\" xlink:href=\"#me562007f0c\" y=\"29.199138\"/>\n      </g>\n     </g>\n     <g id=\"text_18\">\n      <!-- 1400 -->\n      <g transform=\"translate(305.037937 32.998356)scale(0.1 -0.1)\">\n       <use xlink:href=\"#DejaVuSans-49\"/>\n       <use x=\"63.623047\" xlink:href=\"#DejaVuSans-52\"/>\n       <use x=\"127.246094\" xlink:href=\"#DejaVuSans-48\"/>\n       <use x=\"190.869141\" xlink:href=\"#DejaVuSans-48\"/>\n      </g>\n     </g>\n    </g>\n   </g>\n   <g id=\"patch_8\">\n    <path d=\"M 287.165938 239.758125 \nL 287.165938 238.90875 \nL 287.165938 23.1675 \nL 287.165938 22.318125 \nL 298.037937 22.318125 \nL 298.037937 23.1675 \nL 298.037937 238.90875 \nL 298.037937 239.758125 \nz\n\" style=\"fill:none;stroke:#000000;stroke-linejoin:miter;stroke-width:0.8;\"/>\n   </g>\n  </g>\n </g>\n <defs>\n  <clipPath id=\"p605d0413a2\">\n   <rect height=\"217.44\" width=\"217.44\" x=\"52.985937\" y=\"22.318125\"/>\n  </clipPath>\n  <clipPath id=\"p1199604b31\">\n   <rect height=\"217.44\" width=\"10.872\" x=\"287.165938\" y=\"22.318125\"/>\n  </clipPath>\n </defs>\n</svg>\n",
            "image/png": "[encoded data removed]"
          },
          "metadata": {
            "needs_background": "light"
          }
        }
      ],
      "source": [
        "from sklearn.metrics import confusion_matrix\n",
        "import numpy as np\n",
        "import itertools\n",
        "\n",
        "cf =confusion_matrix(y_test_df.values,y_pred)\n",
        "plt.imshow(cf,cmap=plt.cm.Blues,interpolation='nearest')\n",
        "plt.colorbar()\n",
        "plt.title('Confusion Matrix')\n",
        "plt.xlabel('Predicted')\n",
        "plt.ylabel('Actual')\n",
        "class_labels = ['False','True']\n",
        "tick_marks = np.arange(len(class_labels))\n",
        "plt.xticks(tick_marks,class_labels)\n",
        "plt.yticks([-0.5,0,1,1.5],['','False','True',''])\n",
        "# plotting text value inside cells\n",
        "thresh = cf.max() / 2.\n",
        "for i,j in itertools.product(range(cf.shape[0]),range(cf.shape[1])):\n",
        "    plt.text(j,i,format(cf[i,j],'d'),horizontalalignment='center',color='white' if cf[i,j] >thresh else 'black')\n",
        "plt.show()"
      ]
    },
    {
      "cell_type": "code",
      "execution_count": 25,
      "metadata": {},
      "outputs": [
        {
          "output_type": "execute_result",
          "data": {
            "text/plain": [
              "['accuracy_table',\n",
              " 'automl_driver.py',\n",
              " 'azureml-logs/55_azureml-execution-tvmps_eb9a88233ace0912a2c3e2241b3d3b3d2f846cc3f73f1e0141cb484b25e54cff_d.txt',\n",
              " 'azureml-logs/65_job_prep-tvmps_eb9a88233ace0912a2c3e2241b3d3b3d2f846cc3f73f1e0141cb484b25e54cff_d.txt',\n",
              " 'azureml-logs/70_driver_log.txt',\n",
              " 'azureml-logs/75_job_post-tvmps_eb9a88233ace0912a2c3e2241b3d3b3d2f846cc3f73f1e0141cb484b25e54cff_d.txt',\n",
              " 'azureml-logs/process_info.json',\n",
              " 'azureml-logs/process_status.json',\n",
              " 'confusion_matrix',\n",
              " 'explanation/11cb1ac8/classes.interpret.json',\n",
              " 'explanation/11cb1ac8/expected_values.interpret.json',\n",
              " 'explanation/11cb1ac8/features.interpret.json',\n",
              " 'explanation/11cb1ac8/global_names/0.interpret.json',\n",
              " 'explanation/11cb1ac8/global_rank/0.interpret.json',\n",
              " 'explanation/11cb1ac8/global_values/0.interpret.json',\n",
              " 'explanation/11cb1ac8/local_importance_values.interpret.json',\n",
              " 'explanation/11cb1ac8/per_class_names/0.interpret.json',\n",
              " 'explanation/11cb1ac8/per_class_rank/0.interpret.json',\n",
              " 'explanation/11cb1ac8/per_class_values/0.interpret.json',\n",
              " 'explanation/11cb1ac8/rich_metadata.interpret.json',\n",
              " 'explanation/11cb1ac8/visualization_dict.interpret.json',\n",
              " 'explanation/6b20bd69/classes.interpret.json',\n",
              " 'explanation/6b20bd69/expected_values.interpret.json',\n",
              " 'explanation/6b20bd69/features.interpret.json',\n",
              " 'explanation/6b20bd69/global_names/0.interpret.json',\n",
              " 'explanation/6b20bd69/global_rank/0.interpret.json',\n",
              " 'explanation/6b20bd69/global_values/0.interpret.json',\n",
              " 'explanation/6b20bd69/local_importance_values.interpret.json',\n",
              " 'explanation/6b20bd69/per_class_names/0.interpret.json',\n",
              " 'explanation/6b20bd69/per_class_rank/0.interpret.json',\n",
              " 'explanation/6b20bd69/per_class_values/0.interpret.json',\n",
              " 'explanation/6b20bd69/rich_metadata.interpret.json',\n",
              " 'explanation/6b20bd69/visualization_dict.interpret.json',\n",
              " 'logs/azureml/111_azureml.log',\n",
              " 'logs/azureml/azureml_automl.log',\n",
              " 'logs/azureml/dataprep/python_span_29ce64ef-8221-45c1-8ded-20fc23b6a0b7.jsonl',\n",
              " 'logs/azureml/dataprep/python_span_b44005b7-ca3c-4fd9-9359-5625b3287ede.jsonl',\n",
              " 'logs/azureml/job_prep_azureml.log',\n",
              " 'logs/azureml/job_release_azureml.log',\n",
              " 'outputs/conda_env_v_1_0_0.yml',\n",
              " 'outputs/env_dependencies.json',\n",
              " 'outputs/model.pkl',\n",
              " 'outputs/pipeline_graph.json',\n",
              " 'outputs/scoring_file_v_1_0_0.py']"
            ],
            "text/html": "['accuracy_table', 'automl_driver.py', 'azureml-logs/55_azureml-execution-tvmps_eb9a88233ace0912a2c3e2241b3d3b3d2f846cc3f73f1e0141cb484b25e54cff_d.txt', 'azureml-logs/65_job_prep-tvmps_eb9a88233ace0912a2c3e2241b3d3b3d2f846cc3f73f1e0141cb484b25e54cff_d.txt', 'azureml-logs/70_driver_log.txt', 'azureml-logs/75_job_post-tvmps_eb9a88233ace0912a2c3e2241b3d3b3d2f846cc3f73f1e0141cb484b25e54cff_d.txt', 'azureml-logs/process_info.json', 'azureml-logs/process_status.json', 'confusion_matrix', 'explanation/11cb1ac8/classes.interpret.json', 'explanation/11cb1ac8/expected_values.interpret.json', 'explanation/11cb1ac8/features.interpret.json', 'explanation/11cb1ac8/global_names/0.interpret.json', 'explanation/11cb1ac8/global_rank/0.interpret.json', 'explanation/11cb1ac8/global_values/0.interpret.json', 'explanation/11cb1ac8/local_importance_values.interpret.json', 'explanation/11cb1ac8/per_class_names/0.interpret.json', 'explanation/11cb1ac8/per_class_rank/0.interpret.json', 'explanation/11cb1ac8/per_class_values/0.interpret.json', 'explanation/11cb1ac8/rich_metadata.interpret.json', 'explanation/11cb1ac8/visualization_dict.interpret.json', 'explanation/6b20bd69/classes.interpret.json', 'explanation/6b20bd69/expected_values.interpret.json', 'explanation/6b20bd69/features.interpret.json', 'explanation/6b20bd69/global_names/0.interpret.json', 'explanation/6b20bd69/global_rank/0.interpret.json', 'explanation/6b20bd69/global_values/0.interpret.json', 'explanation/6b20bd69/local_importance_values.interpret.json', 'explanation/6b20bd69/per_class_names/0.interpret.json', 'explanation/6b20bd69/per_class_rank/0.interpret.json', 'explanation/6b20bd69/per_class_values/0.interpret.json', 'explanation/6b20bd69/rich_metadata.interpret.json', 'explanation/6b20bd69/visualization_dict.interpret.json', 'logs/azureml/111_azureml.log', 'logs/azureml/azureml_automl.log', 'logs/azureml/dataprep/python_span_29ce64ef-8221-45c1-8ded-20fc23b6a0b7.jsonl', 'logs/azureml/dataprep/python_span_b44005b7-ca3c-4fd9-9359-5625b3287ede.jsonl', 'logs/azureml/job_prep_azureml.log', 'logs/azureml/job_release_azureml.log', 'outputs/conda_env_v_1_0_0.yml', 'outputs/env_dependencies.json', 'outputs/model.pkl', 'outputs/pipeline_graph.json', 'outputs/scoring_file_v_1_0_0.py']"
          },
          "metadata": {},
          "execution_count": 25
        }
      ],
      "source": [
        "# Collect model details in order to prepare for Model registry and deployment\n",
        "# Get the file names and paths of model name, model path, conda dependency yaml file and scoring file\n",
        "# All of these files are auto generated by Auto ML\n",
        "best_run.get_file_names()"
      ]
    },
    {
      "cell_type": "code",
      "execution_count": 26,
      "metadata": {},
      "outputs": [
        {
          "output_type": "execute_result",
          "data": {
            "text/plain": [
              "2"
            ]
          },
          "metadata": {},
          "execution_count": 26
        }
      ],
      "source": [
        "# Check min cpu cores needed for the model\n",
        "cpu_cores=int(best_run.get_properties().get('num_cores'))\n",
        "cpu_cores"
      ]
    },
    {
      "cell_type": "code",
      "execution_count": 27,
      "metadata": {},
      "outputs": [
        {
          "output_type": "execute_result",
          "data": {
            "text/plain": [
              "0.001948588527739048"
            ]
          },
          "metadata": {},
          "execution_count": 27
        }
      ],
      "source": [
        "# Check model size\n",
        "model_size_gb=int(best_run.get_properties().get('model_size_on_disk'))/(1024*1024*1024)\n",
        "model_size_gb"
      ]
    },
    {
      "cell_type": "code",
      "execution_count": 28,
      "metadata": {},
      "outputs": [
        {
          "output_type": "stream",
          "name": "stdout",
          "text": [
            "employee-turnover\temployee-turnover:5\t5\n"
          ]
        }
      ],
      "source": [
        "# Register the model identified by the best AutoML run\n",
        "from azureml.core.model import Model\n",
        "from azureml.core.resource_configuration import ResourceConfiguration\n",
        "\n",
        "model = best_run.register_model(model_name='employee-turnover',\n",
        "                                model_path='outputs/model.pkl',\n",
        "                                model_framework=Model.Framework.SCIKITLEARN,\n",
        "                                model_framework_version='0.22.1',\n",
        "                                resource_configuration=ResourceConfiguration(cpu=2, memory_in_gb=0.5),\n",
        "                                description='employee-turnover best model created with AutoML',\n",
        "                                tags={'area': 'employee turnover', 'type': 'classification'})\n",
        "\n",
        "\n",
        "print(model.name, model.id, model.version, sep='\\t')"
      ]
    },
    {
      "cell_type": "code",
      "execution_count": 49,
      "metadata": {},
      "outputs": [],
      "source": [
        "# Prepare configuration from Inferencing deployment\n",
        "from azureml.core.environment import Environment\n",
        "from azureml.core.model import InferenceConfig\n",
        "\n",
        "env = Environment.from_conda_specification(name='employee-turnover-env', file_path='outputs/conda_env_v_1_0_0.yml')\n",
        "\n",
        "inference_config = InferenceConfig(entry_script='outputs/scoring_file_v_1_0_0.py',\n",
        "                                    environment=env)"
      ]
    },
    {
      "cell_type": "code",
      "execution_count": 47,
      "metadata": {},
      "outputs": [
        {
          "output_type": "stream",
          "name": "stdout",
          "text": [
            "Found existing cluster, use it.\n"
          ]
        }
      ],
      "source": [
        "# Model will be deployed as a real time webservice on a AKS Cluster\n",
        "# First create AKS Cluster\n",
        "\n",
        "# Choose a name for your AKS cluster\n",
        "aks_name = 'aks-cluster-prod' \n",
        "\n",
        "# Verify that cluster does not exist already\n",
        "try:\n",
        "    aks_target = ComputeTarget(workspace=ws, name=aks_name)\n",
        "    print('Found existing cluster, use it.')\n",
        "except ComputeTargetException:\n",
        "    # Use the default configuration (can also provide parameters to customize)\n",
        "    prov_config = AksCompute.provisioning_configuration()\n",
        "\n",
        "    # Create the cluster\n",
        "    aks_target = ComputeTarget.create(workspace=ws, \n",
        "                                    name=aks_name, \n",
        "                                    provisioning_configuration = prov_config)\n",
        "\n",
        "if aks_target.get_status() != \"Succeeded\":\n",
        "    aks_target.wait_for_completion(show_output=True)"
      ]
    },
    {
      "cell_type": "code",
      "execution_count": 52,
      "metadata": {},
      "outputs": [
        {
          "output_type": "stream",
          "name": "stdout",
          "text": [
            "Tips: You can try get_logs(): https://aka.ms/debugimage#dockerlog or local deployment: https://aka.ms/debugimage#debug-locally to debug if deployment takes longer than 10 minutes.\n",
            "Running.............................................................................................................................................................\n",
            "Succeeded\n",
            "AKS service creation operation finished, operation \"Succeeded\"\n",
            "Healthy\n"
          ]
        }
      ],
      "source": [
        "# Deploy model as a webservice on the AKS Cluster\n",
        "# no code deployment is used here\n",
        "service_name = 'employee-turnover-service'\n",
        "service = Model.deploy(ws, service_name, [model], inference_config, deployment_target=aks_target)\n",
        "service.wait_for_deployment(show_output=True)\n",
        "print(service.state)"
      ]
    },
    {
      "cell_type": "code",
      "execution_count": 55,
      "metadata": {},
      "outputs": [
        {
          "output_type": "stream",
          "name": "stdout",
          "text": [
            "http://52.249.252.28:80/api/v1/service/employee-turnover-service/score\nhttp://52.249.252.28:80/api/v1/service/employee-turnover-service/swagger.json\nXLv3lVdQuhbpWkHqbmxqDSc9CBkaDIgr\n"
          ]
        }
      ],
      "source": [
        "# Get deployed webservice scoring URI and key\n",
        "from azureml.core.webservice import Webservice\n",
        "endpoint = Webservice(workspace=ws, name='employee-turnover-service')\n",
        "primary, secondary = endpoint.get_keys()\n",
        "print(endpoint.scoring_uri)\n",
        "print(endpoint.swagger_uri)\n",
        "print(primary)"
      ]
    },
    {
      "cell_type": "code",
      "execution_count": 65,
      "metadata": {},
      "outputs": [
        {
          "output_type": "stream",
          "name": "stdout",
          "text": [
            "\"{\\\"result\\\": [0.0, 1.0]}\"\n"
          ]
        }
      ],
      "source": [
        "# Test model webservice\n",
        "# Below is input sample taken from scoring script\n",
        "# input_sample = pd.DataFrame({\"City\": pd.Series([\"Sandaohezi\"], dtype=\"object\"), \"Email Domain\": pd.Series([\"exblog.jp\"], dtype=\"object\"), \"Hired through SMTP\": pd.Series([\"0\"], dtype=\"int64\"), \"Manager Rating of Likelihood to leave\": pd.Series([\"1.0\"], dtype=\"float64\"), \"Marked for PHT Program\": pd.Series([\"1\"], dtype=\"int64\"), \"Most Recent Performance Evaluation\": pd.Series([\"59.0\"], dtype=\"float64\"), \"Social Media Activity (Twitter, Facebook, Instagram)\": pd.Series([\"0\"], dtype=\"int64\"), \"Survey, Relative, Attitude toward WorkType\": pd.Series([\"2\"], dtype=\"int64\"), \"Survey, Relative, Attitude toward Workload\": pd.Series([\"2\"], dtype=\"int64\"), \"Survey, Relative, Peer's Average Attitude toward Manager\": pd.Series([\"1\"], dtype=\"int64\")})\n",
        "\n",
        "import requests\n",
        "import json\n",
        "\n",
        "# Two sets of data to score, so we get two results back\n",
        "data = {\"data\":\n",
        "        [\n",
        "            [\n",
        "                'Nuoxizhi','youtu.be',1,1.0,0,51.0,0,3,5,1\n",
        "            ],\n",
        "            [\n",
        "                'Ell','cbslocal.com',0,3.0,0,63.0,2,3,2,3\n",
        "            ]\n",
        "        ]\n",
        "        }\n",
        "# Convert to JSON string\n",
        "input_data = json.dumps(data)\n",
        "\n",
        "# Set the content type\n",
        "headers = {'Content-Type': 'application/json'}\n",
        "# If authentication is enabled, set the authorization header\n",
        "headers['Authorization'] = f'Bearer {primary}'\n",
        "\n",
        "# Make the request and display the response\n",
        "resp = requests.post(endpoint.scoring_uri, input_data, headers=headers)\n",
        "print(resp.text)"
      ]
    },
    {
      "cell_type": "code",
      "execution_count": null,
      "metadata": {},
      "outputs": [],
      "source": []
    }
  ],
  "metadata": {
    "authors": [
      {
        "name": "tzvikei"
      }
    ],
    "category": "tutorial",
    "compute": [
      "AML Compute"
    ],
    "datasets": [
      "Creditcard"
    ],
    "deployment": [
      "None"
    ],
    "exclude_from_index": false,
    "file_extension": ".py",
    "framework": [
      "None"
    ],
    "friendly_name": "Classification of credit card fraudulent transactions using Automated ML",
    "index_order": 5,
    "kernelspec": {
      "display_name": "Python 3.6 - AzureML",
      "language": "python",
      "name": "python3-azureml"
    },
    "language_info": {
      "codemirror_mode": {
        "name": "ipython",
        "version": 3
      },
      "file_extension": ".py",
      "mimetype": "text/x-python",
      "name": "python",
      "nbconvert_exporter": "python",
      "pygments_lexer": "ipython3",
      "version": "3.8.3-final"
    },
    "mimetype": "text/x-python",
    "name": "python",
    "nbconvert_exporter": "python",
    "pygments_lexer": "ipython3",
    "tags": [
      "remote_run",
      "AutomatedML"
    ],
    "task": "Classification",
    "version": "3.6.7",
    "categories": [
      "how-to-use-azureml",
      "automated-machine-learning"
    ]
  },
  "nbformat": 4,
  "nbformat_minor": 2
}